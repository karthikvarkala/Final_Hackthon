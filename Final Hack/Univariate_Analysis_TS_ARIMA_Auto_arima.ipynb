{
  "nbformat": 4,
  "nbformat_minor": 0,
  "metadata": {
    "colab": {
      "provenance": []
    },
    "kernelspec": {
      "name": "python3",
      "display_name": "Python 3"
    },
    "language_info": {
      "name": "python"
    },
    "gpuClass": "standard"
  },
  "cells": [
    {
      "cell_type": "markdown",
      "source": [
        "#Univariate Analysis"
      ],
      "metadata": {
        "id": "qgfsS8cA62--"
      }
    },
    {
      "cell_type": "code",
      "source": [
        "#mounting google drive to colab note book\n",
        "from google.colab import drive\n",
        "drive.mount('/content/drive')"
      ],
      "metadata": {
        "colab": {
          "base_uri": "https://localhost:8080/"
        },
        "id": "RfP2mUJlzkVU",
        "outputId": "c696fcc1-8431-4752-ed99-03a8e55a1860"
      },
      "execution_count": null,
      "outputs": [
        {
          "output_type": "stream",
          "name": "stdout",
          "text": [
            "Drive already mounted at /content/drive; to attempt to forcibly remount, call drive.mount(\"/content/drive\", force_remount=True).\n"
          ]
        }
      ]
    },
    {
      "cell_type": "markdown",
      "source": [
        "#Import Requried Libraries"
      ],
      "metadata": {
        "id": "5j1lSzLJ92U7"
      }
    },
    {
      "cell_type": "code",
      "execution_count": null,
      "metadata": {
        "id": "iRsPGCJpy8_1"
      },
      "outputs": [],
      "source": [
        "import glob\n",
        "import os\n",
        "import pandas as pd\n",
        "import numpy as np\n",
        "import matplotlib.pyplot as plt\n",
        "from statsmodels.graphics.tsaplots import plot_acf,plot_pacf\n",
        "from statsmodels.tsa.stattools import adfuller\n",
        "from statsmodels.tsa.arima.model import ARIMA\n",
        "import warnings\n",
        "warnings.filterwarnings('ignore')"
      ]
    },
    {
      "cell_type": "code",
      "source": [
        "# seeting the path\n",
        "path='/content/drive/MyDrive/Capstone/farm_ids'"
      ],
      "metadata": {
        "id": "2M-nA0YTz1NZ"
      },
      "execution_count": null,
      "outputs": []
    },
    {
      "cell_type": "markdown",
      "source": [
        "#Reading the data"
      ],
      "metadata": {
        "id": "lD_jfIEi98xM"
      }
    },
    {
      "cell_type": "code",
      "source": [
        "# create empty list\n",
        "list_of_names=[] \n",
        "#The glob.glob function is used to search for all files in the directory specified by path \n",
        "#that match the pattern *.csv\n",
        "for i in glob.glob(path+'/'+\"*.csv\"):\n",
        "  list_of_names.append(i) "
      ],
      "metadata": {
        "id": "7kra1LCCzW8f"
      },
      "execution_count": null,
      "outputs": []
    },
    {
      "cell_type": "code",
      "source": [
        " #create empty list\n",
        "dataframes_list = []\n",
        "#For each iteration of the loop, the line temp_df=pd.read_csv(list_of_names[i]) reads the .csv file \n",
        "#at the index i of the list list_of_names into a pandas dataframe \n",
        "for i in range (len(list_of_names)):\n",
        "  temp_df=pd.read_csv(list_of_names[i])\n",
        "  dataframes_list.append(temp_df)"
      ],
      "metadata": {
        "id": "W6bQzbZnzaoT"
      },
      "execution_count": null,
      "outputs": []
    },
    {
      "cell_type": "code",
      "source": [
        "for i in dataframes_list:\n",
        "  print(i.shape)"
      ],
      "metadata": {
        "colab": {
          "base_uri": "https://localhost:8080/"
        },
        "id": "2vY7C5HQ0DN0",
        "outputId": "7446600b-a419-4d47-fbf2-ce96b3909e83"
      },
      "execution_count": null,
      "outputs": [
        {
          "output_type": "stream",
          "name": "stdout",
          "text": [
            "(8783, 13)\n",
            "(8783, 13)\n",
            "(8783, 13)\n",
            "(8783, 13)\n",
            "(8783, 13)\n",
            "(8783, 13)\n",
            "(8783, 13)\n",
            "(8783, 13)\n",
            "(8783, 13)\n",
            "(8783, 13)\n"
          ]
        }
      ]
    },
    {
      "cell_type": "code",
      "source": [
        "df=dataframes_list[0] # 0th index values are taking in data1\n",
        "df"
      ],
      "metadata": {
        "colab": {
          "base_uri": "https://localhost:8080/",
          "height": 834
        },
        "id": "zg3tbkAJ0IoK",
        "outputId": "d93c3896-4eeb-4bd6-fe84-25f96ca48170"
      },
      "execution_count": null,
      "outputs": [
        {
          "output_type": "execute_result",
          "data": {
            "text/plain": [
              "                     date     farm_id ingredient_type    yield   farm_area  \\\n",
              "0     2016-01-01 01:00:00  fid_110884           ing_w    0.000  690.455096   \n",
              "1     2016-01-01 02:00:00  fid_110884           ing_w    0.000  690.455096   \n",
              "2     2016-01-01 03:00:00  fid_110884           ing_w    0.000  690.455096   \n",
              "3     2016-01-01 04:00:00  fid_110884           ing_w    0.000  690.455096   \n",
              "4     2016-01-01 05:00:00  fid_110884           ing_w    0.000  690.455096   \n",
              "...                   ...         ...             ...      ...         ...   \n",
              "8778  2016-12-31 19:00:00  fid_110884           ing_w  232.071  690.455096   \n",
              "8779  2016-12-31 20:00:00  fid_110884           ing_w  189.069  690.455096   \n",
              "8780  2016-12-31 21:00:00  fid_110884           ing_w  169.958  690.455096   \n",
              "8781  2016-12-31 22:00:00  fid_110884           ing_w  169.958  690.455096   \n",
              "8782  2016-12-31 23:00:00  fid_110884           ing_w  175.418  690.455096   \n",
              "\n",
              "     farming_company deidentified_location  temp_obs  wind_direction  \\\n",
              "0        Obery Farms         location 7369      24.4            70.0   \n",
              "1        Obery Farms         location 7369      22.8             0.0   \n",
              "2        Obery Farms         location 7369      21.1             0.0   \n",
              "3        Obery Farms         location 7369      20.0           250.0   \n",
              "4        Obery Farms         location 7369      19.4             0.0   \n",
              "...              ...                   ...       ...             ...   \n",
              "8778     Obery Farms         location 7369      22.8           140.0   \n",
              "8779     Obery Farms         location 7369      23.3           170.0   \n",
              "8780     Obery Farms         location 7369      23.3           150.0   \n",
              "8781     Obery Farms         location 7369      22.8           160.0   \n",
              "8782     Obery Farms         location 7369      20.6             0.0   \n",
              "\n",
              "      dew_temp  pressure_sea_level  precipitation  wind_speed  \n",
              "0         21.1              1020.2           -1.0         1.5  \n",
              "1         21.1              1020.2            0.0         0.0  \n",
              "2         20.6              1020.1            0.0         0.0  \n",
              "3         20.0              1020.0           -1.0         2.6  \n",
              "4         19.4              1019.7            0.0         0.0  \n",
              "...        ...                 ...            ...         ...  \n",
              "8778      10.0              1021.7            0.0         5.7  \n",
              "8779       8.9              1021.0            0.0         4.1  \n",
              "8780      10.0              1021.1            0.0         4.1  \n",
              "8781      10.0              1021.1            0.0         3.1  \n",
              "8782      10.0              1021.1            0.0         0.0  \n",
              "\n",
              "[8783 rows x 13 columns]"
            ],
            "text/html": [
              "\n",
              "  <div id=\"df-c75b2174-84b0-4ce9-8974-79be527ae91a\">\n",
              "    <div class=\"colab-df-container\">\n",
              "      <div>\n",
              "<style scoped>\n",
              "    .dataframe tbody tr th:only-of-type {\n",
              "        vertical-align: middle;\n",
              "    }\n",
              "\n",
              "    .dataframe tbody tr th {\n",
              "        vertical-align: top;\n",
              "    }\n",
              "\n",
              "    .dataframe thead th {\n",
              "        text-align: right;\n",
              "    }\n",
              "</style>\n",
              "<table border=\"1\" class=\"dataframe\">\n",
              "  <thead>\n",
              "    <tr style=\"text-align: right;\">\n",
              "      <th></th>\n",
              "      <th>date</th>\n",
              "      <th>farm_id</th>\n",
              "      <th>ingredient_type</th>\n",
              "      <th>yield</th>\n",
              "      <th>farm_area</th>\n",
              "      <th>farming_company</th>\n",
              "      <th>deidentified_location</th>\n",
              "      <th>temp_obs</th>\n",
              "      <th>wind_direction</th>\n",
              "      <th>dew_temp</th>\n",
              "      <th>pressure_sea_level</th>\n",
              "      <th>precipitation</th>\n",
              "      <th>wind_speed</th>\n",
              "    </tr>\n",
              "  </thead>\n",
              "  <tbody>\n",
              "    <tr>\n",
              "      <th>0</th>\n",
              "      <td>2016-01-01 01:00:00</td>\n",
              "      <td>fid_110884</td>\n",
              "      <td>ing_w</td>\n",
              "      <td>0.000</td>\n",
              "      <td>690.455096</td>\n",
              "      <td>Obery Farms</td>\n",
              "      <td>location 7369</td>\n",
              "      <td>24.4</td>\n",
              "      <td>70.0</td>\n",
              "      <td>21.1</td>\n",
              "      <td>1020.2</td>\n",
              "      <td>-1.0</td>\n",
              "      <td>1.5</td>\n",
              "    </tr>\n",
              "    <tr>\n",
              "      <th>1</th>\n",
              "      <td>2016-01-01 02:00:00</td>\n",
              "      <td>fid_110884</td>\n",
              "      <td>ing_w</td>\n",
              "      <td>0.000</td>\n",
              "      <td>690.455096</td>\n",
              "      <td>Obery Farms</td>\n",
              "      <td>location 7369</td>\n",
              "      <td>22.8</td>\n",
              "      <td>0.0</td>\n",
              "      <td>21.1</td>\n",
              "      <td>1020.2</td>\n",
              "      <td>0.0</td>\n",
              "      <td>0.0</td>\n",
              "    </tr>\n",
              "    <tr>\n",
              "      <th>2</th>\n",
              "      <td>2016-01-01 03:00:00</td>\n",
              "      <td>fid_110884</td>\n",
              "      <td>ing_w</td>\n",
              "      <td>0.000</td>\n",
              "      <td>690.455096</td>\n",
              "      <td>Obery Farms</td>\n",
              "      <td>location 7369</td>\n",
              "      <td>21.1</td>\n",
              "      <td>0.0</td>\n",
              "      <td>20.6</td>\n",
              "      <td>1020.1</td>\n",
              "      <td>0.0</td>\n",
              "      <td>0.0</td>\n",
              "    </tr>\n",
              "    <tr>\n",
              "      <th>3</th>\n",
              "      <td>2016-01-01 04:00:00</td>\n",
              "      <td>fid_110884</td>\n",
              "      <td>ing_w</td>\n",
              "      <td>0.000</td>\n",
              "      <td>690.455096</td>\n",
              "      <td>Obery Farms</td>\n",
              "      <td>location 7369</td>\n",
              "      <td>20.0</td>\n",
              "      <td>250.0</td>\n",
              "      <td>20.0</td>\n",
              "      <td>1020.0</td>\n",
              "      <td>-1.0</td>\n",
              "      <td>2.6</td>\n",
              "    </tr>\n",
              "    <tr>\n",
              "      <th>4</th>\n",
              "      <td>2016-01-01 05:00:00</td>\n",
              "      <td>fid_110884</td>\n",
              "      <td>ing_w</td>\n",
              "      <td>0.000</td>\n",
              "      <td>690.455096</td>\n",
              "      <td>Obery Farms</td>\n",
              "      <td>location 7369</td>\n",
              "      <td>19.4</td>\n",
              "      <td>0.0</td>\n",
              "      <td>19.4</td>\n",
              "      <td>1019.7</td>\n",
              "      <td>0.0</td>\n",
              "      <td>0.0</td>\n",
              "    </tr>\n",
              "    <tr>\n",
              "      <th>...</th>\n",
              "      <td>...</td>\n",
              "      <td>...</td>\n",
              "      <td>...</td>\n",
              "      <td>...</td>\n",
              "      <td>...</td>\n",
              "      <td>...</td>\n",
              "      <td>...</td>\n",
              "      <td>...</td>\n",
              "      <td>...</td>\n",
              "      <td>...</td>\n",
              "      <td>...</td>\n",
              "      <td>...</td>\n",
              "      <td>...</td>\n",
              "    </tr>\n",
              "    <tr>\n",
              "      <th>8778</th>\n",
              "      <td>2016-12-31 19:00:00</td>\n",
              "      <td>fid_110884</td>\n",
              "      <td>ing_w</td>\n",
              "      <td>232.071</td>\n",
              "      <td>690.455096</td>\n",
              "      <td>Obery Farms</td>\n",
              "      <td>location 7369</td>\n",
              "      <td>22.8</td>\n",
              "      <td>140.0</td>\n",
              "      <td>10.0</td>\n",
              "      <td>1021.7</td>\n",
              "      <td>0.0</td>\n",
              "      <td>5.7</td>\n",
              "    </tr>\n",
              "    <tr>\n",
              "      <th>8779</th>\n",
              "      <td>2016-12-31 20:00:00</td>\n",
              "      <td>fid_110884</td>\n",
              "      <td>ing_w</td>\n",
              "      <td>189.069</td>\n",
              "      <td>690.455096</td>\n",
              "      <td>Obery Farms</td>\n",
              "      <td>location 7369</td>\n",
              "      <td>23.3</td>\n",
              "      <td>170.0</td>\n",
              "      <td>8.9</td>\n",
              "      <td>1021.0</td>\n",
              "      <td>0.0</td>\n",
              "      <td>4.1</td>\n",
              "    </tr>\n",
              "    <tr>\n",
              "      <th>8780</th>\n",
              "      <td>2016-12-31 21:00:00</td>\n",
              "      <td>fid_110884</td>\n",
              "      <td>ing_w</td>\n",
              "      <td>169.958</td>\n",
              "      <td>690.455096</td>\n",
              "      <td>Obery Farms</td>\n",
              "      <td>location 7369</td>\n",
              "      <td>23.3</td>\n",
              "      <td>150.0</td>\n",
              "      <td>10.0</td>\n",
              "      <td>1021.1</td>\n",
              "      <td>0.0</td>\n",
              "      <td>4.1</td>\n",
              "    </tr>\n",
              "    <tr>\n",
              "      <th>8781</th>\n",
              "      <td>2016-12-31 22:00:00</td>\n",
              "      <td>fid_110884</td>\n",
              "      <td>ing_w</td>\n",
              "      <td>169.958</td>\n",
              "      <td>690.455096</td>\n",
              "      <td>Obery Farms</td>\n",
              "      <td>location 7369</td>\n",
              "      <td>22.8</td>\n",
              "      <td>160.0</td>\n",
              "      <td>10.0</td>\n",
              "      <td>1021.1</td>\n",
              "      <td>0.0</td>\n",
              "      <td>3.1</td>\n",
              "    </tr>\n",
              "    <tr>\n",
              "      <th>8782</th>\n",
              "      <td>2016-12-31 23:00:00</td>\n",
              "      <td>fid_110884</td>\n",
              "      <td>ing_w</td>\n",
              "      <td>175.418</td>\n",
              "      <td>690.455096</td>\n",
              "      <td>Obery Farms</td>\n",
              "      <td>location 7369</td>\n",
              "      <td>20.6</td>\n",
              "      <td>0.0</td>\n",
              "      <td>10.0</td>\n",
              "      <td>1021.1</td>\n",
              "      <td>0.0</td>\n",
              "      <td>0.0</td>\n",
              "    </tr>\n",
              "  </tbody>\n",
              "</table>\n",
              "<p>8783 rows × 13 columns</p>\n",
              "</div>\n",
              "      <button class=\"colab-df-convert\" onclick=\"convertToInteractive('df-c75b2174-84b0-4ce9-8974-79be527ae91a')\"\n",
              "              title=\"Convert this dataframe to an interactive table.\"\n",
              "              style=\"display:none;\">\n",
              "        \n",
              "  <svg xmlns=\"http://www.w3.org/2000/svg\" height=\"24px\"viewBox=\"0 0 24 24\"\n",
              "       width=\"24px\">\n",
              "    <path d=\"M0 0h24v24H0V0z\" fill=\"none\"/>\n",
              "    <path d=\"M18.56 5.44l.94 2.06.94-2.06 2.06-.94-2.06-.94-.94-2.06-.94 2.06-2.06.94zm-11 1L8.5 8.5l.94-2.06 2.06-.94-2.06-.94L8.5 2.5l-.94 2.06-2.06.94zm10 10l.94 2.06.94-2.06 2.06-.94-2.06-.94-.94-2.06-.94 2.06-2.06.94z\"/><path d=\"M17.41 7.96l-1.37-1.37c-.4-.4-.92-.59-1.43-.59-.52 0-1.04.2-1.43.59L10.3 9.45l-7.72 7.72c-.78.78-.78 2.05 0 2.83L4 21.41c.39.39.9.59 1.41.59.51 0 1.02-.2 1.41-.59l7.78-7.78 2.81-2.81c.8-.78.8-2.07 0-2.86zM5.41 20L4 18.59l7.72-7.72 1.47 1.35L5.41 20z\"/>\n",
              "  </svg>\n",
              "      </button>\n",
              "      \n",
              "  <style>\n",
              "    .colab-df-container {\n",
              "      display:flex;\n",
              "      flex-wrap:wrap;\n",
              "      gap: 12px;\n",
              "    }\n",
              "\n",
              "    .colab-df-convert {\n",
              "      background-color: #E8F0FE;\n",
              "      border: none;\n",
              "      border-radius: 50%;\n",
              "      cursor: pointer;\n",
              "      display: none;\n",
              "      fill: #1967D2;\n",
              "      height: 32px;\n",
              "      padding: 0 0 0 0;\n",
              "      width: 32px;\n",
              "    }\n",
              "\n",
              "    .colab-df-convert:hover {\n",
              "      background-color: #E2EBFA;\n",
              "      box-shadow: 0px 1px 2px rgba(60, 64, 67, 0.3), 0px 1px 3px 1px rgba(60, 64, 67, 0.15);\n",
              "      fill: #174EA6;\n",
              "    }\n",
              "\n",
              "    [theme=dark] .colab-df-convert {\n",
              "      background-color: #3B4455;\n",
              "      fill: #D2E3FC;\n",
              "    }\n",
              "\n",
              "    [theme=dark] .colab-df-convert:hover {\n",
              "      background-color: #434B5C;\n",
              "      box-shadow: 0px 1px 3px 1px rgba(0, 0, 0, 0.15);\n",
              "      filter: drop-shadow(0px 1px 2px rgba(0, 0, 0, 0.3));\n",
              "      fill: #FFFFFF;\n",
              "    }\n",
              "  </style>\n",
              "\n",
              "      <script>\n",
              "        const buttonEl =\n",
              "          document.querySelector('#df-c75b2174-84b0-4ce9-8974-79be527ae91a button.colab-df-convert');\n",
              "        buttonEl.style.display =\n",
              "          google.colab.kernel.accessAllowed ? 'block' : 'none';\n",
              "\n",
              "        async function convertToInteractive(key) {\n",
              "          const element = document.querySelector('#df-c75b2174-84b0-4ce9-8974-79be527ae91a');\n",
              "          const dataTable =\n",
              "            await google.colab.kernel.invokeFunction('convertToInteractive',\n",
              "                                                     [key], {});\n",
              "          if (!dataTable) return;\n",
              "\n",
              "          const docLinkHtml = 'Like what you see? Visit the ' +\n",
              "            '<a target=\"_blank\" href=https://colab.research.google.com/notebooks/data_table.ipynb>data table notebook</a>'\n",
              "            + ' to learn more about interactive tables.';\n",
              "          element.innerHTML = '';\n",
              "          dataTable['output_type'] = 'display_data';\n",
              "          await google.colab.output.renderOutput(dataTable, element);\n",
              "          const docLink = document.createElement('div');\n",
              "          docLink.innerHTML = docLinkHtml;\n",
              "          element.appendChild(docLink);\n",
              "        }\n",
              "      </script>\n",
              "    </div>\n",
              "  </div>\n",
              "  "
            ]
          },
          "metadata": {},
          "execution_count": 54
        }
      ]
    },
    {
      "cell_type": "markdown",
      "source": [
        "#Data Types"
      ],
      "metadata": {
        "id": "h6XcWIkPB1eL"
      }
    },
    {
      "cell_type": "code",
      "source": [
        "df.dtypes"
      ],
      "metadata": {
        "colab": {
          "base_uri": "https://localhost:8080/"
        },
        "id": "aZZtjd6a0g7B",
        "outputId": "64f3c218-a521-42c4-c8cc-4b3a59fc4167"
      },
      "execution_count": null,
      "outputs": [
        {
          "output_type": "execute_result",
          "data": {
            "text/plain": [
              "date                      object\n",
              "farm_id                   object\n",
              "ingredient_type           object\n",
              "yield                    float64\n",
              "farm_area                float64\n",
              "farming_company           object\n",
              "deidentified_location     object\n",
              "temp_obs                 float64\n",
              "wind_direction           float64\n",
              "dew_temp                 float64\n",
              "pressure_sea_level       float64\n",
              "precipitation            float64\n",
              "wind_speed               float64\n",
              "dtype: object"
            ]
          },
          "metadata": {},
          "execution_count": 55
        }
      ]
    },
    {
      "cell_type": "code",
      "source": [
        "#creating a data frame for date and yield for univariate analasis\n",
        "data=pd.DataFrame(df[['date','yield']])\n",
        "data"
      ],
      "metadata": {
        "colab": {
          "base_uri": "https://localhost:8080/",
          "height": 423
        },
        "id": "mizTOplU0mfA",
        "outputId": "f92f2b7a-b3fb-417c-caf6-e4ef6c47bc8c"
      },
      "execution_count": null,
      "outputs": [
        {
          "output_type": "execute_result",
          "data": {
            "text/plain": [
              "                     date    yield\n",
              "0     2016-01-01 01:00:00    0.000\n",
              "1     2016-01-01 02:00:00    0.000\n",
              "2     2016-01-01 03:00:00    0.000\n",
              "3     2016-01-01 04:00:00    0.000\n",
              "4     2016-01-01 05:00:00    0.000\n",
              "...                   ...      ...\n",
              "8778  2016-12-31 19:00:00  232.071\n",
              "8779  2016-12-31 20:00:00  189.069\n",
              "8780  2016-12-31 21:00:00  169.958\n",
              "8781  2016-12-31 22:00:00  169.958\n",
              "8782  2016-12-31 23:00:00  175.418\n",
              "\n",
              "[8783 rows x 2 columns]"
            ],
            "text/html": [
              "\n",
              "  <div id=\"df-c9fc6c7e-d0c1-41dc-b0eb-31661cbd7edd\">\n",
              "    <div class=\"colab-df-container\">\n",
              "      <div>\n",
              "<style scoped>\n",
              "    .dataframe tbody tr th:only-of-type {\n",
              "        vertical-align: middle;\n",
              "    }\n",
              "\n",
              "    .dataframe tbody tr th {\n",
              "        vertical-align: top;\n",
              "    }\n",
              "\n",
              "    .dataframe thead th {\n",
              "        text-align: right;\n",
              "    }\n",
              "</style>\n",
              "<table border=\"1\" class=\"dataframe\">\n",
              "  <thead>\n",
              "    <tr style=\"text-align: right;\">\n",
              "      <th></th>\n",
              "      <th>date</th>\n",
              "      <th>yield</th>\n",
              "    </tr>\n",
              "  </thead>\n",
              "  <tbody>\n",
              "    <tr>\n",
              "      <th>0</th>\n",
              "      <td>2016-01-01 01:00:00</td>\n",
              "      <td>0.000</td>\n",
              "    </tr>\n",
              "    <tr>\n",
              "      <th>1</th>\n",
              "      <td>2016-01-01 02:00:00</td>\n",
              "      <td>0.000</td>\n",
              "    </tr>\n",
              "    <tr>\n",
              "      <th>2</th>\n",
              "      <td>2016-01-01 03:00:00</td>\n",
              "      <td>0.000</td>\n",
              "    </tr>\n",
              "    <tr>\n",
              "      <th>3</th>\n",
              "      <td>2016-01-01 04:00:00</td>\n",
              "      <td>0.000</td>\n",
              "    </tr>\n",
              "    <tr>\n",
              "      <th>4</th>\n",
              "      <td>2016-01-01 05:00:00</td>\n",
              "      <td>0.000</td>\n",
              "    </tr>\n",
              "    <tr>\n",
              "      <th>...</th>\n",
              "      <td>...</td>\n",
              "      <td>...</td>\n",
              "    </tr>\n",
              "    <tr>\n",
              "      <th>8778</th>\n",
              "      <td>2016-12-31 19:00:00</td>\n",
              "      <td>232.071</td>\n",
              "    </tr>\n",
              "    <tr>\n",
              "      <th>8779</th>\n",
              "      <td>2016-12-31 20:00:00</td>\n",
              "      <td>189.069</td>\n",
              "    </tr>\n",
              "    <tr>\n",
              "      <th>8780</th>\n",
              "      <td>2016-12-31 21:00:00</td>\n",
              "      <td>169.958</td>\n",
              "    </tr>\n",
              "    <tr>\n",
              "      <th>8781</th>\n",
              "      <td>2016-12-31 22:00:00</td>\n",
              "      <td>169.958</td>\n",
              "    </tr>\n",
              "    <tr>\n",
              "      <th>8782</th>\n",
              "      <td>2016-12-31 23:00:00</td>\n",
              "      <td>175.418</td>\n",
              "    </tr>\n",
              "  </tbody>\n",
              "</table>\n",
              "<p>8783 rows × 2 columns</p>\n",
              "</div>\n",
              "      <button class=\"colab-df-convert\" onclick=\"convertToInteractive('df-c9fc6c7e-d0c1-41dc-b0eb-31661cbd7edd')\"\n",
              "              title=\"Convert this dataframe to an interactive table.\"\n",
              "              style=\"display:none;\">\n",
              "        \n",
              "  <svg xmlns=\"http://www.w3.org/2000/svg\" height=\"24px\"viewBox=\"0 0 24 24\"\n",
              "       width=\"24px\">\n",
              "    <path d=\"M0 0h24v24H0V0z\" fill=\"none\"/>\n",
              "    <path d=\"M18.56 5.44l.94 2.06.94-2.06 2.06-.94-2.06-.94-.94-2.06-.94 2.06-2.06.94zm-11 1L8.5 8.5l.94-2.06 2.06-.94-2.06-.94L8.5 2.5l-.94 2.06-2.06.94zm10 10l.94 2.06.94-2.06 2.06-.94-2.06-.94-.94-2.06-.94 2.06-2.06.94z\"/><path d=\"M17.41 7.96l-1.37-1.37c-.4-.4-.92-.59-1.43-.59-.52 0-1.04.2-1.43.59L10.3 9.45l-7.72 7.72c-.78.78-.78 2.05 0 2.83L4 21.41c.39.39.9.59 1.41.59.51 0 1.02-.2 1.41-.59l7.78-7.78 2.81-2.81c.8-.78.8-2.07 0-2.86zM5.41 20L4 18.59l7.72-7.72 1.47 1.35L5.41 20z\"/>\n",
              "  </svg>\n",
              "      </button>\n",
              "      \n",
              "  <style>\n",
              "    .colab-df-container {\n",
              "      display:flex;\n",
              "      flex-wrap:wrap;\n",
              "      gap: 12px;\n",
              "    }\n",
              "\n",
              "    .colab-df-convert {\n",
              "      background-color: #E8F0FE;\n",
              "      border: none;\n",
              "      border-radius: 50%;\n",
              "      cursor: pointer;\n",
              "      display: none;\n",
              "      fill: #1967D2;\n",
              "      height: 32px;\n",
              "      padding: 0 0 0 0;\n",
              "      width: 32px;\n",
              "    }\n",
              "\n",
              "    .colab-df-convert:hover {\n",
              "      background-color: #E2EBFA;\n",
              "      box-shadow: 0px 1px 2px rgba(60, 64, 67, 0.3), 0px 1px 3px 1px rgba(60, 64, 67, 0.15);\n",
              "      fill: #174EA6;\n",
              "    }\n",
              "\n",
              "    [theme=dark] .colab-df-convert {\n",
              "      background-color: #3B4455;\n",
              "      fill: #D2E3FC;\n",
              "    }\n",
              "\n",
              "    [theme=dark] .colab-df-convert:hover {\n",
              "      background-color: #434B5C;\n",
              "      box-shadow: 0px 1px 3px 1px rgba(0, 0, 0, 0.15);\n",
              "      filter: drop-shadow(0px 1px 2px rgba(0, 0, 0, 0.3));\n",
              "      fill: #FFFFFF;\n",
              "    }\n",
              "  </style>\n",
              "\n",
              "      <script>\n",
              "        const buttonEl =\n",
              "          document.querySelector('#df-c9fc6c7e-d0c1-41dc-b0eb-31661cbd7edd button.colab-df-convert');\n",
              "        buttonEl.style.display =\n",
              "          google.colab.kernel.accessAllowed ? 'block' : 'none';\n",
              "\n",
              "        async function convertToInteractive(key) {\n",
              "          const element = document.querySelector('#df-c9fc6c7e-d0c1-41dc-b0eb-31661cbd7edd');\n",
              "          const dataTable =\n",
              "            await google.colab.kernel.invokeFunction('convertToInteractive',\n",
              "                                                     [key], {});\n",
              "          if (!dataTable) return;\n",
              "\n",
              "          const docLinkHtml = 'Like what you see? Visit the ' +\n",
              "            '<a target=\"_blank\" href=https://colab.research.google.com/notebooks/data_table.ipynb>data table notebook</a>'\n",
              "            + ' to learn more about interactive tables.';\n",
              "          element.innerHTML = '';\n",
              "          dataTable['output_type'] = 'display_data';\n",
              "          await google.colab.output.renderOutput(dataTable, element);\n",
              "          const docLink = document.createElement('div');\n",
              "          docLink.innerHTML = docLinkHtml;\n",
              "          element.appendChild(docLink);\n",
              "        }\n",
              "      </script>\n",
              "    </div>\n",
              "  </div>\n",
              "  "
            ]
          },
          "metadata": {},
          "execution_count": 56
        }
      ]
    },
    {
      "cell_type": "code",
      "source": [
        "#onverting date columns as index\n",
        "data.set_index('date',inplace=True)\n",
        "data"
      ],
      "metadata": {
        "colab": {
          "base_uri": "https://localhost:8080/",
          "height": 455
        },
        "id": "5DKyZ5ry0rdH",
        "outputId": "1e12ba31-0dac-4b06-faf7-cb3e9b18ca2c"
      },
      "execution_count": null,
      "outputs": [
        {
          "output_type": "execute_result",
          "data": {
            "text/plain": [
              "                       yield\n",
              "date                        \n",
              "2016-01-01 01:00:00    0.000\n",
              "2016-01-01 02:00:00    0.000\n",
              "2016-01-01 03:00:00    0.000\n",
              "2016-01-01 04:00:00    0.000\n",
              "2016-01-01 05:00:00    0.000\n",
              "...                      ...\n",
              "2016-12-31 19:00:00  232.071\n",
              "2016-12-31 20:00:00  189.069\n",
              "2016-12-31 21:00:00  169.958\n",
              "2016-12-31 22:00:00  169.958\n",
              "2016-12-31 23:00:00  175.418\n",
              "\n",
              "[8783 rows x 1 columns]"
            ],
            "text/html": [
              "\n",
              "  <div id=\"df-af3adcab-0f8a-4c38-97fb-8220537b83d7\">\n",
              "    <div class=\"colab-df-container\">\n",
              "      <div>\n",
              "<style scoped>\n",
              "    .dataframe tbody tr th:only-of-type {\n",
              "        vertical-align: middle;\n",
              "    }\n",
              "\n",
              "    .dataframe tbody tr th {\n",
              "        vertical-align: top;\n",
              "    }\n",
              "\n",
              "    .dataframe thead th {\n",
              "        text-align: right;\n",
              "    }\n",
              "</style>\n",
              "<table border=\"1\" class=\"dataframe\">\n",
              "  <thead>\n",
              "    <tr style=\"text-align: right;\">\n",
              "      <th></th>\n",
              "      <th>yield</th>\n",
              "    </tr>\n",
              "    <tr>\n",
              "      <th>date</th>\n",
              "      <th></th>\n",
              "    </tr>\n",
              "  </thead>\n",
              "  <tbody>\n",
              "    <tr>\n",
              "      <th>2016-01-01 01:00:00</th>\n",
              "      <td>0.000</td>\n",
              "    </tr>\n",
              "    <tr>\n",
              "      <th>2016-01-01 02:00:00</th>\n",
              "      <td>0.000</td>\n",
              "    </tr>\n",
              "    <tr>\n",
              "      <th>2016-01-01 03:00:00</th>\n",
              "      <td>0.000</td>\n",
              "    </tr>\n",
              "    <tr>\n",
              "      <th>2016-01-01 04:00:00</th>\n",
              "      <td>0.000</td>\n",
              "    </tr>\n",
              "    <tr>\n",
              "      <th>2016-01-01 05:00:00</th>\n",
              "      <td>0.000</td>\n",
              "    </tr>\n",
              "    <tr>\n",
              "      <th>...</th>\n",
              "      <td>...</td>\n",
              "    </tr>\n",
              "    <tr>\n",
              "      <th>2016-12-31 19:00:00</th>\n",
              "      <td>232.071</td>\n",
              "    </tr>\n",
              "    <tr>\n",
              "      <th>2016-12-31 20:00:00</th>\n",
              "      <td>189.069</td>\n",
              "    </tr>\n",
              "    <tr>\n",
              "      <th>2016-12-31 21:00:00</th>\n",
              "      <td>169.958</td>\n",
              "    </tr>\n",
              "    <tr>\n",
              "      <th>2016-12-31 22:00:00</th>\n",
              "      <td>169.958</td>\n",
              "    </tr>\n",
              "    <tr>\n",
              "      <th>2016-12-31 23:00:00</th>\n",
              "      <td>175.418</td>\n",
              "    </tr>\n",
              "  </tbody>\n",
              "</table>\n",
              "<p>8783 rows × 1 columns</p>\n",
              "</div>\n",
              "      <button class=\"colab-df-convert\" onclick=\"convertToInteractive('df-af3adcab-0f8a-4c38-97fb-8220537b83d7')\"\n",
              "              title=\"Convert this dataframe to an interactive table.\"\n",
              "              style=\"display:none;\">\n",
              "        \n",
              "  <svg xmlns=\"http://www.w3.org/2000/svg\" height=\"24px\"viewBox=\"0 0 24 24\"\n",
              "       width=\"24px\">\n",
              "    <path d=\"M0 0h24v24H0V0z\" fill=\"none\"/>\n",
              "    <path d=\"M18.56 5.44l.94 2.06.94-2.06 2.06-.94-2.06-.94-.94-2.06-.94 2.06-2.06.94zm-11 1L8.5 8.5l.94-2.06 2.06-.94-2.06-.94L8.5 2.5l-.94 2.06-2.06.94zm10 10l.94 2.06.94-2.06 2.06-.94-2.06-.94-.94-2.06-.94 2.06-2.06.94z\"/><path d=\"M17.41 7.96l-1.37-1.37c-.4-.4-.92-.59-1.43-.59-.52 0-1.04.2-1.43.59L10.3 9.45l-7.72 7.72c-.78.78-.78 2.05 0 2.83L4 21.41c.39.39.9.59 1.41.59.51 0 1.02-.2 1.41-.59l7.78-7.78 2.81-2.81c.8-.78.8-2.07 0-2.86zM5.41 20L4 18.59l7.72-7.72 1.47 1.35L5.41 20z\"/>\n",
              "  </svg>\n",
              "      </button>\n",
              "      \n",
              "  <style>\n",
              "    .colab-df-container {\n",
              "      display:flex;\n",
              "      flex-wrap:wrap;\n",
              "      gap: 12px;\n",
              "    }\n",
              "\n",
              "    .colab-df-convert {\n",
              "      background-color: #E8F0FE;\n",
              "      border: none;\n",
              "      border-radius: 50%;\n",
              "      cursor: pointer;\n",
              "      display: none;\n",
              "      fill: #1967D2;\n",
              "      height: 32px;\n",
              "      padding: 0 0 0 0;\n",
              "      width: 32px;\n",
              "    }\n",
              "\n",
              "    .colab-df-convert:hover {\n",
              "      background-color: #E2EBFA;\n",
              "      box-shadow: 0px 1px 2px rgba(60, 64, 67, 0.3), 0px 1px 3px 1px rgba(60, 64, 67, 0.15);\n",
              "      fill: #174EA6;\n",
              "    }\n",
              "\n",
              "    [theme=dark] .colab-df-convert {\n",
              "      background-color: #3B4455;\n",
              "      fill: #D2E3FC;\n",
              "    }\n",
              "\n",
              "    [theme=dark] .colab-df-convert:hover {\n",
              "      background-color: #434B5C;\n",
              "      box-shadow: 0px 1px 3px 1px rgba(0, 0, 0, 0.15);\n",
              "      filter: drop-shadow(0px 1px 2px rgba(0, 0, 0, 0.3));\n",
              "      fill: #FFFFFF;\n",
              "    }\n",
              "  </style>\n",
              "\n",
              "      <script>\n",
              "        const buttonEl =\n",
              "          document.querySelector('#df-af3adcab-0f8a-4c38-97fb-8220537b83d7 button.colab-df-convert');\n",
              "        buttonEl.style.display =\n",
              "          google.colab.kernel.accessAllowed ? 'block' : 'none';\n",
              "\n",
              "        async function convertToInteractive(key) {\n",
              "          const element = document.querySelector('#df-af3adcab-0f8a-4c38-97fb-8220537b83d7');\n",
              "          const dataTable =\n",
              "            await google.colab.kernel.invokeFunction('convertToInteractive',\n",
              "                                                     [key], {});\n",
              "          if (!dataTable) return;\n",
              "\n",
              "          const docLinkHtml = 'Like what you see? Visit the ' +\n",
              "            '<a target=\"_blank\" href=https://colab.research.google.com/notebooks/data_table.ipynb>data table notebook</a>'\n",
              "            + ' to learn more about interactive tables.';\n",
              "          element.innerHTML = '';\n",
              "          dataTable['output_type'] = 'display_data';\n",
              "          await google.colab.output.renderOutput(dataTable, element);\n",
              "          const docLink = document.createElement('div');\n",
              "          docLink.innerHTML = docLinkHtml;\n",
              "          element.appendChild(docLink);\n",
              "        }\n",
              "      </script>\n",
              "    </div>\n",
              "  </div>\n",
              "  "
            ]
          },
          "metadata": {},
          "execution_count": 57
        }
      ]
    },
    {
      "cell_type": "code",
      "source": [
        "# creating a new index for entire one year on hour basis\n",
        "new_index = pd.date_range(start='2016-01-01 00:00:000', end='2016-12-31 23:00:000', freq='H').strftime('%Y-%m-%d %H:%M:%S')\n",
        "new_index"
      ],
      "metadata": {
        "colab": {
          "base_uri": "https://localhost:8080/"
        },
        "id": "4fnx8zqd0uWn",
        "outputId": "374cdaaa-5846-45d6-9df0-0922eeac093e"
      },
      "execution_count": null,
      "outputs": [
        {
          "output_type": "execute_result",
          "data": {
            "text/plain": [
              "Index(['2016-01-01 00:00:00', '2016-01-01 01:00:00', '2016-01-01 02:00:00',\n",
              "       '2016-01-01 03:00:00', '2016-01-01 04:00:00', '2016-01-01 05:00:00',\n",
              "       '2016-01-01 06:00:00', '2016-01-01 07:00:00', '2016-01-01 08:00:00',\n",
              "       '2016-01-01 09:00:00',\n",
              "       ...\n",
              "       '2016-12-31 14:00:00', '2016-12-31 15:00:00', '2016-12-31 16:00:00',\n",
              "       '2016-12-31 17:00:00', '2016-12-31 18:00:00', '2016-12-31 19:00:00',\n",
              "       '2016-12-31 20:00:00', '2016-12-31 21:00:00', '2016-12-31 22:00:00',\n",
              "       '2016-12-31 23:00:00'],\n",
              "      dtype='object', length=8784)"
            ]
          },
          "metadata": {},
          "execution_count": 58
        }
      ]
    },
    {
      "cell_type": "code",
      "source": [
        "# assigning new index to our data\n",
        "data1=data.reindex(new_index)"
      ],
      "metadata": {
        "id": "KvRq3Ib10xGd"
      },
      "execution_count": null,
      "outputs": []
    },
    {
      "cell_type": "code",
      "source": [
        "# checking null values after changing index\n",
        "data1.isnull().sum()"
      ],
      "metadata": {
        "colab": {
          "base_uri": "https://localhost:8080/"
        },
        "id": "Dc3p5TCy00Ee",
        "outputId": "47a10dcb-8982-4512-8872-950078c43402"
      },
      "execution_count": null,
      "outputs": [
        {
          "output_type": "execute_result",
          "data": {
            "text/plain": [
              "yield    1\n",
              "dtype: int64"
            ]
          },
          "metadata": {},
          "execution_count": 60
        }
      ]
    },
    {
      "cell_type": "code",
      "source": [
        "# filling the null values with 0s\n",
        "data1.fillna(0,inplace=True)\n",
        "data1.isnull().sum()"
      ],
      "metadata": {
        "colab": {
          "base_uri": "https://localhost:8080/"
        },
        "id": "xHsodu654DRS",
        "outputId": "a8660b7a-371f-40e8-991c-b0311f344b0a"
      },
      "execution_count": null,
      "outputs": [
        {
          "output_type": "execute_result",
          "data": {
            "text/plain": [
              "yield    0\n",
              "dtype: int64"
            ]
          },
          "metadata": {},
          "execution_count": 61
        }
      ]
    },
    {
      "cell_type": "code",
      "source": [
        "data1.shape"
      ],
      "metadata": {
        "colab": {
          "base_uri": "https://localhost:8080/"
        },
        "id": "-_cJiKka4F-X",
        "outputId": "a526a66a-adfa-4fc5-b8f7-0f8ab574582b"
      },
      "execution_count": null,
      "outputs": [
        {
          "output_type": "execute_result",
          "data": {
            "text/plain": [
              "(8784, 1)"
            ]
          },
          "metadata": {},
          "execution_count": 62
        }
      ]
    },
    {
      "cell_type": "code",
      "source": [],
      "metadata": {
        "id": "3V60oxAT4MH_"
      },
      "execution_count": null,
      "outputs": []
    },
    {
      "cell_type": "markdown",
      "source": [
        "#Train_test_split"
      ],
      "metadata": {
        "id": "2GMLQ0hyC73m"
      }
    },
    {
      "cell_type": "code",
      "source": [
        "# spliting the data into train and test,in train we are taking data upto '2016-12-15 23:00:00.00' her and in test '2016-12-15 23:00:00.00'after this values\n",
        "train=data1.loc[data1.index<'2016-12-15 23:00:00.00']\n",
        "test=data1.loc[data1.index>='2016-12-15 23:00:00.00']"
      ],
      "metadata": {
        "id": "lz2IcpyE9iWB"
      },
      "execution_count": null,
      "outputs": []
    },
    {
      "cell_type": "code",
      "source": [
        "# visualizating the train data\n",
        "plt.figure(figsize=(15,8))\n",
        "plt.plot(train.index,train['yield'], '-o')\n",
        "plt.title('yield w.r.t train')\n",
        "plt.ylabel('yield')\n",
        "plt.xlabel('month')\n",
        "plt.legend(['train_yield'],loc='Best')\n",
        "plt.show()"
      ],
      "metadata": {
        "colab": {
          "base_uri": "https://localhost:8080/",
          "height": 513
        },
        "id": "xkfjFEytkRDU",
        "outputId": "e4f335e8-954e-4875-9c02-0f8fa4374e9a"
      },
      "execution_count": null,
      "outputs": [
        {
          "output_type": "display_data",
          "data": {
            "text/plain": [
              "<Figure size 1080x576 with 1 Axes>"
            ],
            "image/png": "[encoded data removed]"
          },
          "metadata": {
            "needs_background": "light"
          }
        }
      ]
    },
    {
      "cell_type": "code",
      "source": [
        "# visualizating the test data\n",
        "plt.figure(figsize=(15,8))\n",
        "plt.plot(test.index,test['yield'], '-o')\n",
        "plt.title('yield w.r.t test')\n",
        "plt.ylabel('yield')\n",
        "plt.xlabel('week')\n",
        "plt.legend(['year_yield'],loc='Best')\n",
        "plt.show()"
      ],
      "metadata": {
        "colab": {
          "base_uri": "https://localhost:8080/",
          "height": 513
        },
        "id": "Aa_k6Zx1iHFI",
        "outputId": "cd1e0a0c-fa59-4001-8b00-6f2d7eba1025"
      },
      "execution_count": null,
      "outputs": [
        {
          "output_type": "display_data",
          "data": {
            "text/plain": [
              "<Figure size 1080x576 with 1 Axes>"
            ],
            "image/png": "[encoded data removed]"
          },
          "metadata": {
            "needs_background": "light"
          }
        }
      ]
    },
    {
      "cell_type": "markdown",
      "source": [
        "#ACF and PACF"
      ],
      "metadata": {
        "id": "nz4DAXvaEYeZ"
      }
    },
    {
      "cell_type": "code",
      "source": [
        "# plot acf\n",
        "plot_acf(train['yield'], lags=30, alpha=0.05)\n",
        "plt.show()"
      ],
      "metadata": {
        "colab": {
          "base_uri": "https://localhost:8080/",
          "height": 281
        },
        "id": "DPARYBFcjjjY",
        "outputId": "37abc672-bb91-4261-e5d5-ffe3586b71d9"
      },
      "execution_count": null,
      "outputs": [
        {
          "output_type": "display_data",
          "data": {
            "text/plain": [
              "<Figure size 432x288 with 1 Axes>"
            ],
            "image/png": "[encoded data removed]"
          },
          "metadata": {
            "needs_background": "light"
          }
        }
      ]
    },
    {
      "cell_type": "code",
      "source": [
        "# plot acf\n",
        "plot_pacf(train['yield'], lags=30, alpha=0.05)\n",
        "plt.show()"
      ],
      "metadata": {
        "colab": {
          "base_uri": "https://localhost:8080/",
          "height": 281
        },
        "id": "qOY3cw9RloTW",
        "outputId": "71b9f0a0-e556-4e45-a07e-dce49f4a1f0d"
      },
      "execution_count": null,
      "outputs": [
        {
          "output_type": "display_data",
          "data": {
            "text/plain": [
              "<Figure size 432x288 with 1 Axes>"
            ],
            "image/png": "[encoded data removed]"
          },
          "metadata": {
            "needs_background": "light"
          }
        }
      ]
    },
    {
      "cell_type": "markdown",
      "source": [
        "#Statistical Tests"
      ],
      "metadata": {
        "id": "CMQeQivYEhLj"
      }
    },
    {
      "cell_type": "code",
      "source": [
        "#Ho: It is non stationary\n",
        "#H1: It is stationary\n",
        "\n",
        "def adfuller_test(yld):\n",
        "    result=adfuller(yld)\n",
        "    labels = ['ADF Test Statistic','p-value','#Lags Used','Number of Observations Used']\n",
        "    for value,label in zip(result,labels):\n",
        "        print(label+' : '+str(value) )\n",
        "    if result[1] <= 0.05:\n",
        "        print(\"strong evidence against the null hypothesis(Ho), reject the null hypothesis. Data has no unit root and is stationary\")\n",
        "    else:\n",
        "        print(\"weak evidence against null hypothesis, time series has a unit root, indicating it is non-stationary \")"
      ],
      "metadata": {
        "id": "YTYvjalQmIDm"
      },
      "execution_count": null,
      "outputs": []
    },
    {
      "cell_type": "code",
      "source": [
        "adfuller_test(train['yield'])"
      ],
      "metadata": {
        "colab": {
          "base_uri": "https://localhost:8080/"
        },
        "id": "fSL90N3TvxEs",
        "outputId": "fdd76f02-0345-4d0f-9592-8085e5d9544c"
      },
      "execution_count": null,
      "outputs": [
        {
          "output_type": "stream",
          "name": "stdout",
          "text": [
            "ADF Test Statistic : -1.9100000064480773\n",
            "p-value : 0.3273715145104481\n",
            "#Lags Used : 25\n",
            "Number of Observations Used : 8374\n",
            "weak evidence against null hypothesis, time series has a unit root, indicating it is non-stationary \n"
          ]
        }
      ]
    },
    {
      "cell_type": "code",
      "source": [
        "train['yield'].diff(1)"
      ],
      "metadata": {
        "colab": {
          "base_uri": "https://localhost:8080/"
        },
        "id": "exwM9FePv7E_",
        "outputId": "c08b45a7-7409-44ff-9066-47d51394f2d1"
      },
      "execution_count": null,
      "outputs": [
        {
          "output_type": "execute_result",
          "data": {
            "text/plain": [
              "2016-01-01 00:00:00       NaN\n",
              "2016-01-01 01:00:00     0.000\n",
              "2016-01-01 02:00:00     0.000\n",
              "2016-01-01 03:00:00     0.000\n",
              "2016-01-01 04:00:00     0.000\n",
              "                        ...  \n",
              "2016-12-15 19:00:00    -6.825\n",
              "2016-12-15 20:00:00   -35.493\n",
              "2016-12-15 21:00:00   -20.477\n",
              "2016-12-15 22:00:00    -0.683\n",
              "2016-12-15 23:00:00     3.413\n",
              "Name: yield, Length: 8400, dtype: float64"
            ]
          },
          "metadata": {},
          "execution_count": 72
        }
      ]
    },
    {
      "cell_type": "code",
      "source": [
        "adfuller_test(train['yield'].diff(1)[1:]) # except 1st row"
      ],
      "metadata": {
        "colab": {
          "base_uri": "https://localhost:8080/"
        },
        "id": "8EVz5ucTwGZr",
        "outputId": "aa79a155-a797-40e4-f6d5-f549d2197ac1"
      },
      "execution_count": null,
      "outputs": [
        {
          "output_type": "stream",
          "name": "stdout",
          "text": [
            "ADF Test Statistic : -21.680999989875946\n",
            "p-value : 0.0\n",
            "#Lags Used : 24\n",
            "Number of Observations Used : 8374\n",
            "strong evidence against the null hypothesis(Ho), reject the null hypothesis. Data has no unit root and is stationary\n"
          ]
        }
      ]
    },
    {
      "cell_type": "markdown",
      "source": [
        "###ACF and PACF plots for 1 order differencing"
      ],
      "metadata": {
        "id": "T6FfEiJqExN7"
      }
    },
    {
      "cell_type": "code",
      "source": [
        "# plot acf\n",
        "plot_acf(train['yield'].diff(1).dropna(), lags=30, title='autocorrelation 1st order differencing')\n",
        "plt.show()"
      ],
      "metadata": {
        "colab": {
          "base_uri": "https://localhost:8080/",
          "height": 281
        },
        "id": "2QN0OAHdwxZC",
        "outputId": "ec114661-e6d7-4f20-a089-290f39ab07ce"
      },
      "execution_count": null,
      "outputs": [
        {
          "output_type": "display_data",
          "data": {
            "text/plain": [
              "<Figure size 432x288 with 1 Axes>"
            ],
            "image/png": "[encoded data removed]"
          },
          "metadata": {
            "needs_background": "light"
          }
        }
      ]
    },
    {
      "cell_type": "code",
      "source": [
        "plot_pacf(train['yield'].diff(1).dropna(), lags=30, alpha=0.05, title='partial autocorrelation 1st order differencing')\n",
        "plt.show()"
      ],
      "metadata": {
        "colab": {
          "base_uri": "https://localhost:8080/",
          "height": 281
        },
        "id": "XqqzLBh5xS_U",
        "outputId": "9f066a8d-d7a7-4a0d-e867-ef52a915fb90"
      },
      "execution_count": null,
      "outputs": [
        {
          "output_type": "display_data",
          "data": {
            "text/plain": [
              "<Figure size 432x288 with 1 Axes>"
            ],
            "image/png": "[encoded data removed]"
          },
          "metadata": {
            "needs_background": "light"
          }
        }
      ]
    },
    {
      "cell_type": "markdown",
      "source": [
        "#ARIMA"
      ],
      "metadata": {
        "id": "tYRbw626E-_z"
      }
    },
    {
      "cell_type": "code",
      "source": [
        "from statsmodels.tsa.arima.model import ARIMA"
      ],
      "metadata": {
        "id": "M0e8tkmp-zJP"
      },
      "execution_count": null,
      "outputs": []
    },
    {
      "cell_type": "code",
      "source": [
        "model_arima=ARIMA(train['yield'].values,order=(2,1,2))\n",
        "model_arima_fit=model_arima.fit()\n",
        "print(model_arima_fit.summary())"
      ],
      "metadata": {
        "colab": {
          "base_uri": "https://localhost:8080/"
        },
        "id": "XaMlTYdfx3Bc",
        "outputId": "7c11e58f-ed79-4934-ab86-686a167b2c7f"
      },
      "execution_count": null,
      "outputs": [
        {
          "output_type": "stream",
          "name": "stdout",
          "text": [
            "                               SARIMAX Results                                \n",
            "==============================================================================\n",
            "Dep. Variable:                      y   No. Observations:                 8400\n",
            "Model:                 ARIMA(2, 1, 2)   Log Likelihood              -33068.924\n",
            "Date:                Thu, 23 Feb 2023   AIC                          66147.847\n",
            "Time:                        07:08:44   BIC                          66183.026\n",
            "Sample:                             0   HQIC                         66159.859\n",
            "                               - 8400                                         \n",
            "Covariance Type:                  opg                                         \n",
            "==============================================================================\n",
            "                 coef    std err          z      P>|z|      [0.025      0.975]\n",
            "------------------------------------------------------------------------------\n",
            "ar.L1         -0.3236      0.098     -3.312      0.001      -0.515      -0.132\n",
            "ar.L2          0.6449      0.059     10.847      0.000       0.528       0.761\n",
            "ma.L1          0.1019      0.098      1.043      0.297      -0.090       0.293\n",
            "ma.L2         -0.8605      0.083    -10.361      0.000      -1.023      -0.698\n",
            "sigma2       153.9152      0.216    713.195      0.000     153.492     154.338\n",
            "===================================================================================\n",
            "Ljung-Box (L1) (Q):                   8.55   Jarque-Bera (JB):          34176398.99\n",
            "Prob(Q):                              0.00   Prob(JB):                         0.00\n",
            "Heteroskedasticity (H):              24.26   Skew:                             3.03\n",
            "Prob(H) (two-sided):                  0.00   Kurtosis:                       315.44\n",
            "===================================================================================\n",
            "\n",
            "Warnings:\n",
            "[1] Covariance matrix calculated using the outer product of gradients (complex-step).\n"
          ]
        }
      ]
    },
    {
      "cell_type": "code",
      "source": [
        "model_arima_forecast = model_arima_fit.forecast(steps = len(test))\n",
        "print(model_arima_forecast[:15]) # first 15 predictions on test data"
      ],
      "metadata": {
        "colab": {
          "base_uri": "https://localhost:8080/"
        },
        "id": "h3T7qS2Nx-UL",
        "outputId": "c2005ae3-5265-430d-9f0b-6bedb0db4794"
      },
      "execution_count": null,
      "outputs": [
        {
          "output_type": "stream",
          "name": "stdout",
          "text": [
            "[174.41549219 177.70997714 179.95890451 181.35571772 182.35400546\n",
            " 182.93174582 183.38856711 183.61331825 183.83518344 183.90832888\n",
            " 184.02773414 184.03626731 184.11050634 184.09198774 184.14585378]\n"
          ]
        }
      ]
    },
    {
      "cell_type": "markdown",
      "source": [
        "#Evaluation of ARIMA"
      ],
      "metadata": {
        "id": "_Ain1m6UFOTT"
      }
    },
    {
      "cell_type": "code",
      "source": [
        "# defining the funtion for error metrics\n",
        "from sklearn import metrics\n",
        "def error_metrics(train_act,train_pred,test_act,test_pred):\n",
        "        print('*** Error metrics Train data ***')\n",
        "        print('RMSE Train:', np.sqrt(metrics.mean_squared_error(train_act, train_pred)))\n",
        "\n",
        "\n",
        "        print('***\\n Error metrics Test Data ***')\n",
        "        print('RMSE Train:', np.sqrt(metrics.mean_squared_error(test_act,test_pred)))\n"
      ],
      "metadata": {
        "id": "00oeJP-O11cP"
      },
      "execution_count": null,
      "outputs": []
    },
    {
      "cell_type": "code",
      "source": [
        "error_metrics(train['yield'],model_arima_fit.forecast(steps=len(train)),test['yield'],model_arima_fit.forecast(steps=len(test)))"
      ],
      "metadata": {
        "colab": {
          "base_uri": "https://localhost:8080/"
        },
        "id": "tENZFg3S1xLr",
        "outputId": "b9d443fe-f591-48f7-a98d-987a66943fee"
      },
      "execution_count": null,
      "outputs": [
        {
          "output_type": "stream",
          "name": "stdout",
          "text": [
            "*** Error metrics Train data ***\n",
            "RMSE Train: 130.30870403685373\n",
            "***\n",
            " Error metrics Test Data ***\n",
            "RMSE Train: 29.946755591695606\n"
          ]
        }
      ]
    },
    {
      "cell_type": "code",
      "source": [
        "# model_arima_forecast['ARIMA'] = model_arima_forecast\n",
        "test['ARIMA']=model_arima_forecast\n",
        "plt.figure(figsize=(16,8))\n",
        "plt.plot( train['yield'], label='Train')\n",
        "plt.plot(test['yield'], label='Test')\n",
        "plt.plot(test['ARIMA'], label='ARIMA')\n",
        "plt.legend(loc='best')\n",
        "plt.show()"
      ],
      "metadata": {
        "colab": {
          "base_uri": "https://localhost:8080/",
          "height": 483
        },
        "id": "M6-JgNRW3y01",
        "outputId": "50e6a452-7bda-4311-bd13-f4735738f811"
      },
      "execution_count": null,
      "outputs": [
        {
          "output_type": "display_data",
          "data": {
            "text/plain": [
              "<Figure size 1152x576 with 1 Axes>"
            ],
            "image/png": "[encoded data removed]"
          },
          "metadata": {
            "needs_background": "light"
          }
        }
      ]
    },
    {
      "cell_type": "markdown",
      "source": [
        "#AUTO_ARIMA"
      ],
      "metadata": {
        "id": "3kD8dL2CGFTC"
      }
    },
    {
      "cell_type": "code",
      "source": [
        "# istalling pmdarima for auto_arima\n",
        "! pip install pmdarima"
      ],
      "metadata": {
        "colab": {
          "base_uri": "https://localhost:8080/"
        },
        "id": "7-K4U0bY9OEX",
        "outputId": "03041c3a-bd22-4a95-d62b-e545441adacc"
      },
      "execution_count": null,
      "outputs": [
        {
          "output_type": "stream",
          "name": "stdout",
          "text": [
            "Looking in indexes: https://pypi.org/simple, https://us-python.pkg.dev/colab-wheels/public/simple/\n",
            "Requirement already satisfied: pmdarima in /usr/local/lib/python3.8/dist-packages (2.0.2)\n",
            "Requirement already satisfied: scipy>=1.3.2 in /usr/local/lib/python3.8/dist-packages (from pmdarima) (1.7.3)\n",
            "Requirement already satisfied: pandas>=0.19 in /usr/local/lib/python3.8/dist-packages (from pmdarima) (1.3.5)\n",
            "Requirement already satisfied: setuptools!=50.0.0,>=38.6.0 in /usr/local/lib/python3.8/dist-packages (from pmdarima) (57.4.0)\n",
            "Requirement already satisfied: numpy>=1.21.2 in /usr/local/lib/python3.8/dist-packages (from pmdarima) (1.22.4)\n",
            "Requirement already satisfied: statsmodels>=0.13.2 in /usr/local/lib/python3.8/dist-packages (from pmdarima) (0.13.5)\n",
            "Requirement already satisfied: joblib>=0.11 in /usr/local/lib/python3.8/dist-packages (from pmdarima) (1.2.0)\n",
            "Requirement already satisfied: urllib3 in /usr/local/lib/python3.8/dist-packages (from pmdarima) (1.24.3)\n",
            "Requirement already satisfied: Cython!=0.29.18,!=0.29.31,>=0.29 in /usr/local/lib/python3.8/dist-packages (from pmdarima) (0.29.33)\n",
            "Requirement already satisfied: scikit-learn>=0.22 in /usr/local/lib/python3.8/dist-packages (from pmdarima) (1.0.2)\n",
            "Requirement already satisfied: pytz>=2017.3 in /usr/local/lib/python3.8/dist-packages (from pandas>=0.19->pmdarima) (2022.7.1)\n",
            "Requirement already satisfied: python-dateutil>=2.7.3 in /usr/local/lib/python3.8/dist-packages (from pandas>=0.19->pmdarima) (2.8.2)\n",
            "Requirement already satisfied: threadpoolctl>=2.0.0 in /usr/local/lib/python3.8/dist-packages (from scikit-learn>=0.22->pmdarima) (3.1.0)\n",
            "Requirement already satisfied: packaging>=21.3 in /usr/local/lib/python3.8/dist-packages (from statsmodels>=0.13.2->pmdarima) (23.0)\n",
            "Requirement already satisfied: patsy>=0.5.2 in /usr/local/lib/python3.8/dist-packages (from statsmodels>=0.13.2->pmdarima) (0.5.3)\n",
            "Requirement already satisfied: six in /usr/local/lib/python3.8/dist-packages (from patsy>=0.5.2->statsmodels>=0.13.2->pmdarima) (1.15.0)\n"
          ]
        }
      ]
    },
    {
      "cell_type": "code",
      "source": [
        "from pmdarima.arima import auto_arima"
      ],
      "metadata": {
        "id": "zKHDuD95F8I7"
      },
      "execution_count": 2,
      "outputs": []
    },
    {
      "cell_type": "code",
      "source": [
        "# Fit auto_arima model using the 1-dimensional train array\n",
        "model = auto_arima(train, trace=True, error_action='ignore', suppress_warnings=True)\n",
        "model.fit(train)"
      ],
      "metadata": {
        "id": "2qsXY3jd8afH"
      },
      "execution_count": null,
      "outputs": []
    },
    {
      "cell_type": "code",
      "source": [
        "future_forecast = model.predict(n_periods=len(test))\n",
        "future_forecast[:10] # first 10 predictions of auto arima model"
      ],
      "metadata": {
        "id": "dGY71dEt3nOQ"
      },
      "execution_count": null,
      "outputs": []
    },
    {
      "cell_type": "code",
      "source": [
        "test['AUTO_ARIMA']=future_forecast\n",
        "plt.figure(figsize=(16,8))\n",
        "plt.plot( train['yield'], label='Train')\n",
        "plt.plot(test['yield'], label='Test')\n",
        "plt.plot(test['AUTO_ARIMA'], label='AUTO_ARIMA')\n",
        "plt.legend(loc='best')\n",
        "plt.show()"
      ],
      "metadata": {
        "id": "AwEOitW-4Xv7"
      },
      "execution_count": null,
      "outputs": []
    },
    {
      "cell_type": "markdown",
      "source": [
        "###Evaluating auto_arima"
      ],
      "metadata": {
        "id": "lpJRKs_aGZ9e"
      }
    },
    {
      "cell_type": "code",
      "source": [
        "error_metrics(train['yield'],model.predict(steps=len(train)),test['yield'],model.predict(steps=len(test)))"
      ],
      "metadata": {
        "id": "jCYw4z_I6gW4"
      },
      "execution_count": null,
      "outputs": []
    },
    {
      "cell_type": "code",
      "source": [],
      "metadata": {
        "id": "7rmEu7AqHV98"
      },
      "execution_count": null,
      "outputs": []
    }
  ]
}