{
  "cells": [
    {
      "cell_type": "markdown",
      "metadata": {
        "id": "cxsZaPYQdcgd"
      },
      "source": [
        "#NoteBook consist of ingridient based data frames 4\n",
        "\n",
        "\n",
        "*   ing_w\n",
        "\n",
        "    individual farm ids consist of ing_w\n",
        "\n",
        "*   ing_x\n",
        "*   ing_y\n",
        "\n",
        "\n",
        "*   ing_z\n",
        "\n"
      ]
    },
    {
      "cell_type": "code",
      "execution_count": null,
      "metadata": {
        "id": "UY8FyxZV7kp6"
      },
      "outputs": [],
      "source": [
        "#mounting google drive to notebook\n",
        "from google.colab import drive\n",
        "drive.mount('/content/drive')"
      ]
    },
    {
      "cell_type": "markdown",
      "metadata": {
        "id": "1n9QtjxoI1dz"
      },
      "source": [
        "#Importing required Libraries"
      ]
    },
    {
      "cell_type": "code",
      "execution_count": null,
      "metadata": {
        "id": "xtTshOMmC4H2"
      },
      "outputs": [],
      "source": [
        "import os\n",
        "import glob\n",
        "import pandas as pd\n",
        "import numpy as np\n",
        "import warnings\n",
        "warnings.filterwarnings('ignore')"
      ]
    },
    {
      "cell_type": "markdown",
      "metadata": {
        "id": "NtluH4drASZk"
      },
      "source": [
        "#ing_w"
      ]
    },
    {
      "cell_type": "code",
      "execution_count": null,
      "metadata": {
        "id": "g6Ted9g8DCSz"
      },
      "outputs": [],
      "source": [
        "#reading the file\n",
        "data_w=pd.read_csv(\"/content/drive/MyDrive/Capstone/ingredient type/ing_sort/data_w\")"
      ]
    },
    {
      "cell_type": "code",
      "execution_count": null,
      "metadata": {
        "colab": {
          "base_uri": "https://localhost:8080/"
        },
        "id": "I2YzRH7ADQkm",
        "outputId": "c1d287c0-8d1f-489c-8494-34b1bfa2d34b"
      },
      "outputs": [
        {
          "data": {
            "text/plain": [
              "(12269791, 13)"
            ]
          },
          "execution_count": 4,
          "metadata": {},
          "output_type": "execute_result"
        }
      ],
      "source": [
        "data_w.shape"
      ]
    },
    {
      "cell_type": "markdown",
      "metadata": {
        "id": "7PjRhkH4JE3N"
      },
      "source": [
        "data_w consist of 12269791 rows and 13 columns"
      ]
    },
    {
      "cell_type": "code",
      "execution_count": null,
      "metadata": {
        "colab": {
          "base_uri": "https://localhost:8080/",
          "height": 444
        },
        "id": "6ePOT9L5DT99",
        "outputId": "6b5786f3-d194-4f1e-ba5f-eba0f5c9821a"
      },
      "outputs": [
        {
          "data": {
            "text/html": [
              "\n",
              "  <div id=\"df-5f3e70a3-a1f7-4ee8-8874-55b1acdc5c86\">\n",
              "    <div class=\"colab-df-container\">\n",
              "      <div>\n",
              "<style scoped>\n",
              "    .dataframe tbody tr th:only-of-type {\n",
              "        vertical-align: middle;\n",
              "    }\n",
              "\n",
              "    .dataframe tbody tr th {\n",
              "        vertical-align: top;\n",
              "    }\n",
              "\n",
              "    .dataframe thead th {\n",
              "        text-align: right;\n",
              "    }\n",
              "</style>\n",
              "<table border=\"1\" class=\"dataframe\">\n",
              "  <thead>\n",
              "    <tr style=\"text-align: right;\">\n",
              "      <th></th>\n",
              "      <th>date</th>\n",
              "      <th>farm_id</th>\n",
              "      <th>ingredient_type</th>\n",
              "      <th>yield</th>\n",
              "      <th>farm_area</th>\n",
              "      <th>farming_company</th>\n",
              "      <th>deidentified_location</th>\n",
              "      <th>temp_obs</th>\n",
              "      <th>wind_direction</th>\n",
              "      <th>dew_temp</th>\n",
              "      <th>pressure_sea_level</th>\n",
              "      <th>precipitation</th>\n",
              "      <th>wind_speed</th>\n",
              "    </tr>\n",
              "  </thead>\n",
              "  <tbody>\n",
              "    <tr>\n",
              "      <th>0</th>\n",
              "      <td>2016-01-01 01:00:00</td>\n",
              "      <td>fid_110884</td>\n",
              "      <td>ing_w</td>\n",
              "      <td>0.0</td>\n",
              "      <td>690.455096</td>\n",
              "      <td>Obery Farms</td>\n",
              "      <td>location 7369</td>\n",
              "      <td>24.4</td>\n",
              "      <td>70.0</td>\n",
              "      <td>21.1</td>\n",
              "      <td>1020.2</td>\n",
              "      <td>-1.0</td>\n",
              "      <td>1.5</td>\n",
              "    </tr>\n",
              "    <tr>\n",
              "      <th>1</th>\n",
              "      <td>2016-01-01 01:00:00</td>\n",
              "      <td>fid_90053</td>\n",
              "      <td>ing_w</td>\n",
              "      <td>0.0</td>\n",
              "      <td>252.696160</td>\n",
              "      <td>Obery Farms</td>\n",
              "      <td>location 7369</td>\n",
              "      <td>24.4</td>\n",
              "      <td>70.0</td>\n",
              "      <td>21.1</td>\n",
              "      <td>1020.2</td>\n",
              "      <td>-1.0</td>\n",
              "      <td>1.5</td>\n",
              "    </tr>\n",
              "    <tr>\n",
              "      <th>2</th>\n",
              "      <td>2016-01-01 01:00:00</td>\n",
              "      <td>fid_17537</td>\n",
              "      <td>ing_w</td>\n",
              "      <td>0.0</td>\n",
              "      <td>499.446528</td>\n",
              "      <td>Obery Farms</td>\n",
              "      <td>location 7369</td>\n",
              "      <td>24.4</td>\n",
              "      <td>70.0</td>\n",
              "      <td>21.1</td>\n",
              "      <td>1020.2</td>\n",
              "      <td>-1.0</td>\n",
              "      <td>1.5</td>\n",
              "    </tr>\n",
              "    <tr>\n",
              "      <th>3</th>\n",
              "      <td>2016-01-01 01:00:00</td>\n",
              "      <td>fid_110392</td>\n",
              "      <td>ing_w</td>\n",
              "      <td>0.0</td>\n",
              "      <td>2200.407555</td>\n",
              "      <td>Obery Farms</td>\n",
              "      <td>location 7369</td>\n",
              "      <td>24.4</td>\n",
              "      <td>70.0</td>\n",
              "      <td>21.1</td>\n",
              "      <td>1020.2</td>\n",
              "      <td>-1.0</td>\n",
              "      <td>1.5</td>\n",
              "    </tr>\n",
              "    <tr>\n",
              "      <th>4</th>\n",
              "      <td>2016-01-01 01:00:00</td>\n",
              "      <td>fid_62402</td>\n",
              "      <td>ing_w</td>\n",
              "      <td>0.0</td>\n",
              "      <td>10833.140121</td>\n",
              "      <td>Obery Farms</td>\n",
              "      <td>location 7369</td>\n",
              "      <td>24.4</td>\n",
              "      <td>70.0</td>\n",
              "      <td>21.1</td>\n",
              "      <td>1020.2</td>\n",
              "      <td>-1.0</td>\n",
              "      <td>1.5</td>\n",
              "    </tr>\n",
              "  </tbody>\n",
              "</table>\n",
              "</div>\n",
              "      <button class=\"colab-df-convert\" onclick=\"convertToInteractive('df-5f3e70a3-a1f7-4ee8-8874-55b1acdc5c86')\"\n",
              "              title=\"Convert this dataframe to an interactive table.\"\n",
              "              style=\"display:none;\">\n",
              "        \n",
              "  <svg xmlns=\"http://www.w3.org/2000/svg\" height=\"24px\"viewBox=\"0 0 24 24\"\n",
              "       width=\"24px\">\n",
              "    <path d=\"M0 0h24v24H0V0z\" fill=\"none\"/>\n",
              "    <path d=\"M18.56 5.44l.94 2.06.94-2.06 2.06-.94-2.06-.94-.94-2.06-.94 2.06-2.06.94zm-11 1L8.5 8.5l.94-2.06 2.06-.94-2.06-.94L8.5 2.5l-.94 2.06-2.06.94zm10 10l.94 2.06.94-2.06 2.06-.94-2.06-.94-.94-2.06-.94 2.06-2.06.94z\"/><path d=\"M17.41 7.96l-1.37-1.37c-.4-.4-.92-.59-1.43-.59-.52 0-1.04.2-1.43.59L10.3 9.45l-7.72 7.72c-.78.78-.78 2.05 0 2.83L4 21.41c.39.39.9.59 1.41.59.51 0 1.02-.2 1.41-.59l7.78-7.78 2.81-2.81c.8-.78.8-2.07 0-2.86zM5.41 20L4 18.59l7.72-7.72 1.47 1.35L5.41 20z\"/>\n",
              "  </svg>\n",
              "      </button>\n",
              "      \n",
              "  <style>\n",
              "    .colab-df-container {\n",
              "      display:flex;\n",
              "      flex-wrap:wrap;\n",
              "      gap: 12px;\n",
              "    }\n",
              "\n",
              "    .colab-df-convert {\n",
              "      background-color: #E8F0FE;\n",
              "      border: none;\n",
              "      border-radius: 50%;\n",
              "      cursor: pointer;\n",
              "      display: none;\n",
              "      fill: #1967D2;\n",
              "      height: 32px;\n",
              "      padding: 0 0 0 0;\n",
              "      width: 32px;\n",
              "    }\n",
              "\n",
              "    .colab-df-convert:hover {\n",
              "      background-color: #E2EBFA;\n",
              "      box-shadow: 0px 1px 2px rgba(60, 64, 67, 0.3), 0px 1px 3px 1px rgba(60, 64, 67, 0.15);\n",
              "      fill: #174EA6;\n",
              "    }\n",
              "\n",
              "    [theme=dark] .colab-df-convert {\n",
              "      background-color: #3B4455;\n",
              "      fill: #D2E3FC;\n",
              "    }\n",
              "\n",
              "    [theme=dark] .colab-df-convert:hover {\n",
              "      background-color: #434B5C;\n",
              "      box-shadow: 0px 1px 3px 1px rgba(0, 0, 0, 0.15);\n",
              "      filter: drop-shadow(0px 1px 2px rgba(0, 0, 0, 0.3));\n",
              "      fill: #FFFFFF;\n",
              "    }\n",
              "  </style>\n",
              "\n",
              "      <script>\n",
              "        const buttonEl =\n",
              "          document.querySelector('#df-5f3e70a3-a1f7-4ee8-8874-55b1acdc5c86 button.colab-df-convert');\n",
              "        buttonEl.style.display =\n",
              "          google.colab.kernel.accessAllowed ? 'block' : 'none';\n",
              "\n",
              "        async function convertToInteractive(key) {\n",
              "          const element = document.querySelector('#df-5f3e70a3-a1f7-4ee8-8874-55b1acdc5c86');\n",
              "          const dataTable =\n",
              "            await google.colab.kernel.invokeFunction('convertToInteractive',\n",
              "                                                     [key], {});\n",
              "          if (!dataTable) return;\n",
              "\n",
              "          const docLinkHtml = 'Like what you see? Visit the ' +\n",
              "            '<a target=\"_blank\" href=https://colab.research.google.com/notebooks/data_table.ipynb>data table notebook</a>'\n",
              "            + ' to learn more about interactive tables.';\n",
              "          element.innerHTML = '';\n",
              "          dataTable['output_type'] = 'display_data';\n",
              "          await google.colab.output.renderOutput(dataTable, element);\n",
              "          const docLink = document.createElement('div');\n",
              "          docLink.innerHTML = docLinkHtml;\n",
              "          element.appendChild(docLink);\n",
              "        }\n",
              "      </script>\n",
              "    </div>\n",
              "  </div>\n",
              "  "
            ],
            "text/plain": [
              "                  date     farm_id ingredient_type  yield     farm_area  \\\n",
              "0  2016-01-01 01:00:00  fid_110884           ing_w    0.0    690.455096   \n",
              "1  2016-01-01 01:00:00   fid_90053           ing_w    0.0    252.696160   \n",
              "2  2016-01-01 01:00:00   fid_17537           ing_w    0.0    499.446528   \n",
              "3  2016-01-01 01:00:00  fid_110392           ing_w    0.0   2200.407555   \n",
              "4  2016-01-01 01:00:00   fid_62402           ing_w    0.0  10833.140121   \n",
              "\n",
              "  farming_company deidentified_location  temp_obs  wind_direction  dew_temp  \\\n",
              "0     Obery Farms         location 7369      24.4            70.0      21.1   \n",
              "1     Obery Farms         location 7369      24.4            70.0      21.1   \n",
              "2     Obery Farms         location 7369      24.4            70.0      21.1   \n",
              "3     Obery Farms         location 7369      24.4            70.0      21.1   \n",
              "4     Obery Farms         location 7369      24.4            70.0      21.1   \n",
              "\n",
              "   pressure_sea_level  precipitation  wind_speed  \n",
              "0              1020.2           -1.0         1.5  \n",
              "1              1020.2           -1.0         1.5  \n",
              "2              1020.2           -1.0         1.5  \n",
              "3              1020.2           -1.0         1.5  \n",
              "4              1020.2           -1.0         1.5  "
            ]
          },
          "execution_count": 5,
          "metadata": {},
          "output_type": "execute_result"
        }
      ],
      "source": [
        "#displaying first 5 records\n",
        "data_w.head()"
      ]
    },
    {
      "cell_type": "code",
      "execution_count": null,
      "metadata": {
        "colab": {
          "base_uri": "https://localhost:8080/"
        },
        "id": "hEW_iDrGDVcw",
        "outputId": "43bb98c0-17e7-4595-c156-ca2c882c8d3e"
      },
      "outputs": [
        {
          "data": {
            "text/plain": [
              "date                     0.0\n",
              "farm_id                  0.0\n",
              "ingredient_type          0.0\n",
              "yield                    0.0\n",
              "farm_area                0.0\n",
              "farming_company          0.0\n",
              "deidentified_location    0.0\n",
              "temp_obs                 0.0\n",
              "wind_direction           0.0\n",
              "dew_temp                 0.0\n",
              "pressure_sea_level       0.0\n",
              "precipitation            0.0\n",
              "wind_speed               0.0\n",
              "dtype: float64"
            ]
          },
          "execution_count": 6,
          "metadata": {},
          "output_type": "execute_result"
        }
      ],
      "source": [
        "#analysing the missing data percentage\n",
        "data_w.isnull().sum()*100/len(data_w)"
      ]
    },
    {
      "cell_type": "code",
      "execution_count": null,
      "metadata": {
        "colab": {
          "base_uri": "https://localhost:8080/"
        },
        "id": "8yDI9UmeKWg_",
        "outputId": "1ed2db6e-a95c-4bb0-c23d-6c479f62d8b1"
      },
      "outputs": [
        {
          "data": {
            "text/plain": [
              "array(['fid_110884', 'fid_90053', 'fid_17537', 'fid_110392', 'fid_62402',\n",
              "       'fid_121604', 'fid_85694', 'fid_33785', 'fid_110793', 'fid_32954'],\n",
              "      dtype=object)"
            ]
          },
          "execution_count": 7,
          "metadata": {},
          "output_type": "execute_result"
        }
      ],
      "source": [
        "unique_ids=data_w['farm_id'].unique()\n",
        "ids=unique_ids[:10]  # 10 unique farm ids\n",
        "ids"
      ]
    },
    {
      "cell_type": "code",
      "execution_count": null,
      "metadata": {
        "colab": {
          "background_save": true
        },
        "id": "aVyatq7of-M6"
      },
      "outputs": [],
      "source": [
        "# converting each farm id as subsets\n",
        "subsets={}\n",
        "for i in ids:\n",
        "  subset=data_w[data_w['farm_id']==i]\n",
        "  subsets[i] = subset"
      ]
    },
    {
      "cell_type": "code",
      "execution_count": null,
      "metadata": {
        "colab": {
          "background_save": true,
          "base_uri": "https://localhost:8080/"
        },
        "id": "iiCjr7DrgG2R",
        "outputId": "baa06725-f06e-48d5-8334-cee7ded065c3"
      },
      "outputs": [
        {
          "data": {
            "text/plain": [
              "{'fid_110884':                        date     farm_id ingredient_type    yield   farm_area  \\\n",
              " 0       2016-01-01 01:00:00  fid_110884           ing_w    0.000  690.455096   \n",
              " 104     2016-01-01 02:00:00  fid_110884           ing_w    0.000  690.455096   \n",
              " 208     2016-01-01 03:00:00  fid_110884           ing_w    0.000  690.455096   \n",
              " 312     2016-01-01 04:00:00  fid_110884           ing_w    0.000  690.455096   \n",
              " 416     2016-01-01 05:00:00  fid_110884           ing_w    0.000  690.455096   \n",
              " ...                     ...         ...             ...      ...         ...   \n",
              " 916564  2016-12-31 19:00:00  fid_110884           ing_w  232.071  690.455096   \n",
              " 916669  2016-12-31 20:00:00  fid_110884           ing_w  189.069  690.455096   \n",
              " 916774  2016-12-31 21:00:00  fid_110884           ing_w  169.958  690.455096   \n",
              " 916879  2016-12-31 22:00:00  fid_110884           ing_w  169.958  690.455096   \n",
              " 916984  2016-12-31 23:00:00  fid_110884           ing_w  175.418  690.455096   \n",
              " \n",
              "        farming_company deidentified_location  temp_obs  wind_direction  \\\n",
              " 0          Obery Farms         location 7369      24.4            70.0   \n",
              " 104        Obery Farms         location 7369      22.8             0.0   \n",
              " 208        Obery Farms         location 7369      21.1             0.0   \n",
              " 312        Obery Farms         location 7369      20.0           250.0   \n",
              " 416        Obery Farms         location 7369      19.4             0.0   \n",
              " ...                ...                   ...       ...             ...   \n",
              " 916564     Obery Farms         location 7369      22.8           140.0   \n",
              " 916669     Obery Farms         location 7369      23.3           170.0   \n",
              " 916774     Obery Farms         location 7369      23.3           150.0   \n",
              " 916879     Obery Farms         location 7369      22.8           160.0   \n",
              " 916984     Obery Farms         location 7369      20.6             0.0   \n",
              " \n",
              "         dew_temp  pressure_sea_level  precipitation  wind_speed  \n",
              " 0           21.1              1020.2           -1.0         1.5  \n",
              " 104         21.1              1020.2            0.0         0.0  \n",
              " 208         20.6              1020.1            0.0         0.0  \n",
              " 312         20.0              1020.0           -1.0         2.6  \n",
              " 416         19.4              1019.7            0.0         0.0  \n",
              " ...          ...                 ...            ...         ...  \n",
              " 916564      10.0              1021.7            0.0         5.7  \n",
              " 916669       8.9              1021.0            0.0         4.1  \n",
              " 916774      10.0              1021.1            0.0         4.1  \n",
              " 916879      10.0              1021.1            0.0         3.1  \n",
              " 916984      10.0              1021.1            0.0         0.0  \n",
              " \n",
              " [8783 rows x 13 columns],\n",
              " 'fid_90053':                        date    farm_id ingredient_type    yield  farm_area  \\\n",
              " 1       2016-01-01 01:00:00  fid_90053           ing_w   0.0000  252.69616   \n",
              " 105     2016-01-01 02:00:00  fid_90053           ing_w   0.0000  252.69616   \n",
              " 209     2016-01-01 03:00:00  fid_90053           ing_w   0.0000  252.69616   \n",
              " 313     2016-01-01 04:00:00  fid_90053           ing_w   0.0000  252.69616   \n",
              " 417     2016-01-01 05:00:00  fid_90053           ing_w   0.0000  252.69616   \n",
              " ...                     ...        ...             ...      ...        ...   \n",
              " 916565  2016-12-31 19:00:00  fid_90053           ing_w  68.2560  252.69616   \n",
              " 916670  2016-12-31 20:00:00  fid_90053           ing_w  52.4206  252.69616   \n",
              " 916775  2016-12-31 21:00:00  fid_90053           ing_w  53.5127  252.69616   \n",
              " 916880  2016-12-31 22:00:00  fid_90053           ing_w  54.3318  252.69616   \n",
              " 916985  2016-12-31 23:00:00  fid_90053           ing_w  51.0555  252.69616   \n",
              " \n",
              "        farming_company deidentified_location  temp_obs  wind_direction  \\\n",
              " 1          Obery Farms         location 7369      24.4            70.0   \n",
              " 105        Obery Farms         location 7369      22.8             0.0   \n",
              " 209        Obery Farms         location 7369      21.1             0.0   \n",
              " 313        Obery Farms         location 7369      20.0           250.0   \n",
              " 417        Obery Farms         location 7369      19.4             0.0   \n",
              " ...                ...                   ...       ...             ...   \n",
              " 916565     Obery Farms         location 7369      22.8           140.0   \n",
              " 916670     Obery Farms         location 7369      23.3           170.0   \n",
              " 916775     Obery Farms         location 7369      23.3           150.0   \n",
              " 916880     Obery Farms         location 7369      22.8           160.0   \n",
              " 916985     Obery Farms         location 7369      20.6             0.0   \n",
              " \n",
              "         dew_temp  pressure_sea_level  precipitation  wind_speed  \n",
              " 1           21.1              1020.2           -1.0         1.5  \n",
              " 105         21.1              1020.2            0.0         0.0  \n",
              " 209         20.6              1020.1            0.0         0.0  \n",
              " 313         20.0              1020.0           -1.0         2.6  \n",
              " 417         19.4              1019.7            0.0         0.0  \n",
              " ...          ...                 ...            ...         ...  \n",
              " 916565      10.0              1021.7            0.0         5.7  \n",
              " 916670       8.9              1021.0            0.0         4.1  \n",
              " 916775      10.0              1021.1            0.0         4.1  \n",
              " 916880      10.0              1021.1            0.0         3.1  \n",
              " 916985      10.0              1021.1            0.0         0.0  \n",
              " \n",
              " [8783 rows x 13 columns],\n",
              " 'fid_17537':                        date    farm_id ingredient_type   yield   farm_area  \\\n",
              " 2       2016-01-01 01:00:00  fid_17537           ing_w  0.0000  499.446528   \n",
              " 106     2016-01-01 02:00:00  fid_17537           ing_w  0.0000  499.446528   \n",
              " 210     2016-01-01 03:00:00  fid_17537           ing_w  0.0000  499.446528   \n",
              " 314     2016-01-01 04:00:00  fid_17537           ing_w  0.0000  499.446528   \n",
              " 418     2016-01-01 05:00:00  fid_17537           ing_w  0.0000  499.446528   \n",
              " ...                     ...        ...             ...     ...         ...   \n",
              " 916566  2016-12-31 19:00:00  fid_17537           ing_w  4.9144  499.446528   \n",
              " 916671  2016-12-31 20:00:00  fid_17537           ing_w  5.3240  499.446528   \n",
              " 916776  2016-12-31 21:00:00  fid_17537           ing_w  5.7335  499.446528   \n",
              " 916881  2016-12-31 22:00:00  fid_17537           ing_w  4.9144  499.446528   \n",
              " 916986  2016-12-31 23:00:00  fid_17537           ing_w  4.9144  499.446528   \n",
              " \n",
              "        farming_company deidentified_location  temp_obs  wind_direction  \\\n",
              " 2          Obery Farms         location 7369      24.4            70.0   \n",
              " 106        Obery Farms         location 7369      22.8             0.0   \n",
              " 210        Obery Farms         location 7369      21.1             0.0   \n",
              " 314        Obery Farms         location 7369      20.0           250.0   \n",
              " 418        Obery Farms         location 7369      19.4             0.0   \n",
              " ...                ...                   ...       ...             ...   \n",
              " 916566     Obery Farms         location 7369      22.8           140.0   \n",
              " 916671     Obery Farms         location 7369      23.3           170.0   \n",
              " 916776     Obery Farms         location 7369      23.3           150.0   \n",
              " 916881     Obery Farms         location 7369      22.8           160.0   \n",
              " 916986     Obery Farms         location 7369      20.6             0.0   \n",
              " \n",
              "         dew_temp  pressure_sea_level  precipitation  wind_speed  \n",
              " 2           21.1              1020.2           -1.0         1.5  \n",
              " 106         21.1              1020.2            0.0         0.0  \n",
              " 210         20.6              1020.1            0.0         0.0  \n",
              " 314         20.0              1020.0           -1.0         2.6  \n",
              " 418         19.4              1019.7            0.0         0.0  \n",
              " ...          ...                 ...            ...         ...  \n",
              " 916566      10.0              1021.7            0.0         5.7  \n",
              " 916671       8.9              1021.0            0.0         4.1  \n",
              " 916776      10.0              1021.1            0.0         4.1  \n",
              " 916881      10.0              1021.1            0.0         3.1  \n",
              " 916986      10.0              1021.1            0.0         0.0  \n",
              " \n",
              " [8783 rows x 13 columns],\n",
              " 'fid_110392':                        date     farm_id ingredient_type    yield    farm_area  \\\n",
              " 3       2016-01-01 01:00:00  fid_110392           ing_w    0.000  2200.407555   \n",
              " 107     2016-01-01 02:00:00  fid_110392           ing_w    0.000  2200.407555   \n",
              " 211     2016-01-01 03:00:00  fid_110392           ing_w    0.000  2200.407555   \n",
              " 315     2016-01-01 04:00:00  fid_110392           ing_w    0.000  2200.407555   \n",
              " 419     2016-01-01 05:00:00  fid_110392           ing_w    0.000  2200.407555   \n",
              " ...                     ...         ...             ...      ...          ...   \n",
              " 916567  2016-12-31 19:00:00  fid_110392           ing_w  107.162  2200.407555   \n",
              " 916672  2016-12-31 20:00:00  fid_110392           ing_w  107.162  2200.407555   \n",
              " 916777  2016-12-31 21:00:00  fid_110392           ing_w  106.821  2200.407555   \n",
              " 916882  2016-12-31 22:00:00  fid_110392           ing_w  104.090  2200.407555   \n",
              " 916987  2016-12-31 23:00:00  fid_110392           ing_w  102.725  2200.407555   \n",
              " \n",
              "        farming_company deidentified_location  temp_obs  wind_direction  \\\n",
              " 3          Obery Farms         location 7369      24.4            70.0   \n",
              " 107        Obery Farms         location 7369      22.8             0.0   \n",
              " 211        Obery Farms         location 7369      21.1             0.0   \n",
              " 315        Obery Farms         location 7369      20.0           250.0   \n",
              " 419        Obery Farms         location 7369      19.4             0.0   \n",
              " ...                ...                   ...       ...             ...   \n",
              " 916567     Obery Farms         location 7369      22.8           140.0   \n",
              " 916672     Obery Farms         location 7369      23.3           170.0   \n",
              " 916777     Obery Farms         location 7369      23.3           150.0   \n",
              " 916882     Obery Farms         location 7369      22.8           160.0   \n",
              " 916987     Obery Farms         location 7369      20.6             0.0   \n",
              " \n",
              "         dew_temp  pressure_sea_level  precipitation  wind_speed  \n",
              " 3           21.1              1020.2           -1.0         1.5  \n",
              " 107         21.1              1020.2            0.0         0.0  \n",
              " 211         20.6              1020.1            0.0         0.0  \n",
              " 315         20.0              1020.0           -1.0         2.6  \n",
              " 419         19.4              1019.7            0.0         0.0  \n",
              " ...          ...                 ...            ...         ...  \n",
              " 916567      10.0              1021.7            0.0         5.7  \n",
              " 916672       8.9              1021.0            0.0         4.1  \n",
              " 916777      10.0              1021.1            0.0         4.1  \n",
              " 916882      10.0              1021.1            0.0         3.1  \n",
              " 916987      10.0              1021.1            0.0         0.0  \n",
              " \n",
              " [8783 rows x 13 columns],\n",
              " 'fid_62402':                        date    farm_id ingredient_type    yield     farm_area  \\\n",
              " 4       2016-01-01 01:00:00  fid_62402           ing_w     0.00  10833.140121   \n",
              " 108     2016-01-01 02:00:00  fid_62402           ing_w     0.00  10833.140121   \n",
              " 212     2016-01-01 03:00:00  fid_62402           ing_w     0.00  10833.140121   \n",
              " 316     2016-01-01 04:00:00  fid_62402           ing_w     0.00  10833.140121   \n",
              " 420     2016-01-01 05:00:00  fid_62402           ing_w     0.00  10833.140121   \n",
              " ...                     ...        ...             ...      ...           ...   \n",
              " 916568  2016-12-31 19:00:00  fid_62402           ing_w  1150.80  10833.140121   \n",
              " 916673  2016-12-31 20:00:00  fid_62402           ing_w  1197.89  10833.140121   \n",
              " 916778  2016-12-31 21:00:00  fid_62402           ing_w  1147.38  10833.140121   \n",
              " 916883  2016-12-31 22:00:00  fid_62402           ing_w  1130.32  10833.140121   \n",
              " 916988  2016-12-31 23:00:00  fid_62402           ing_w  1162.40  10833.140121   \n",
              " \n",
              "        farming_company deidentified_location  temp_obs  wind_direction  \\\n",
              " 4          Obery Farms         location 7369      24.4            70.0   \n",
              " 108        Obery Farms         location 7369      22.8             0.0   \n",
              " 212        Obery Farms         location 7369      21.1             0.0   \n",
              " 316        Obery Farms         location 7369      20.0           250.0   \n",
              " 420        Obery Farms         location 7369      19.4             0.0   \n",
              " ...                ...                   ...       ...             ...   \n",
              " 916568     Obery Farms         location 7369      22.8           140.0   \n",
              " 916673     Obery Farms         location 7369      23.3           170.0   \n",
              " 916778     Obery Farms         location 7369      23.3           150.0   \n",
              " 916883     Obery Farms         location 7369      22.8           160.0   \n",
              " 916988     Obery Farms         location 7369      20.6             0.0   \n",
              " \n",
              "         dew_temp  pressure_sea_level  precipitation  wind_speed  \n",
              " 4           21.1              1020.2           -1.0         1.5  \n",
              " 108         21.1              1020.2            0.0         0.0  \n",
              " 212         20.6              1020.1            0.0         0.0  \n",
              " 316         20.0              1020.0           -1.0         2.6  \n",
              " 420         19.4              1019.7            0.0         0.0  \n",
              " ...          ...                 ...            ...         ...  \n",
              " 916568      10.0              1021.7            0.0         5.7  \n",
              " 916673       8.9              1021.0            0.0         4.1  \n",
              " 916778      10.0              1021.1            0.0         4.1  \n",
              " 916883      10.0              1021.1            0.0         3.1  \n",
              " 916988      10.0              1021.1            0.0         0.0  \n",
              " \n",
              " [8783 rows x 13 columns],\n",
              " 'fid_121604':                        date     farm_id ingredient_type    yield  farm_area  \\\n",
              " 5       2016-01-01 01:00:00  fid_121604           ing_w   0.0000    743.224   \n",
              " 109     2016-01-01 02:00:00  fid_121604           ing_w   0.0000    743.224   \n",
              " 213     2016-01-01 03:00:00  fid_121604           ing_w   0.0000    743.224   \n",
              " 317     2016-01-01 04:00:00  fid_121604           ing_w   0.0000    743.224   \n",
              " 421     2016-01-01 05:00:00  fid_121604           ing_w   0.0000    743.224   \n",
              " ...                     ...         ...             ...      ...        ...   \n",
              " 916569  2016-12-31 19:00:00  fid_121604           ing_w  10.2384    743.224   \n",
              " 916674  2016-12-31 20:00:00  fid_121604           ing_w  18.7704    743.224   \n",
              " 916779  2016-12-31 21:00:00  fid_121604           ing_w   9.2146    743.224   \n",
              " 916884  2016-12-31 22:00:00  fid_121604           ing_w  17.4053    743.224   \n",
              " 916989  2016-12-31 23:00:00  fid_121604           ing_w   8.8733    743.224   \n",
              " \n",
              "        farming_company deidentified_location  temp_obs  wind_direction  \\\n",
              " 5          Obery Farms         location 7369      24.4            70.0   \n",
              " 109        Obery Farms         location 7369      22.8             0.0   \n",
              " 213        Obery Farms         location 7369      21.1             0.0   \n",
              " 317        Obery Farms         location 7369      20.0           250.0   \n",
              " 421        Obery Farms         location 7369      19.4             0.0   \n",
              " ...                ...                   ...       ...             ...   \n",
              " 916569     Obery Farms         location 7369      22.8           140.0   \n",
              " 916674     Obery Farms         location 7369      23.3           170.0   \n",
              " 916779     Obery Farms         location 7369      23.3           150.0   \n",
              " 916884     Obery Farms         location 7369      22.8           160.0   \n",
              " 916989     Obery Farms         location 7369      20.6             0.0   \n",
              " \n",
              "         dew_temp  pressure_sea_level  precipitation  wind_speed  \n",
              " 5           21.1              1020.2           -1.0         1.5  \n",
              " 109         21.1              1020.2            0.0         0.0  \n",
              " 213         20.6              1020.1            0.0         0.0  \n",
              " 317         20.0              1020.0           -1.0         2.6  \n",
              " 421         19.4              1019.7            0.0         0.0  \n",
              " ...          ...                 ...            ...         ...  \n",
              " 916569      10.0              1021.7            0.0         5.7  \n",
              " 916674       8.9              1021.0            0.0         4.1  \n",
              " 916779      10.0              1021.1            0.0         4.1  \n",
              " 916884      10.0              1021.1            0.0         3.1  \n",
              " 916989      10.0              1021.1            0.0         0.0  \n",
              " \n",
              " [8783 rows x 13 columns],\n",
              " 'fid_85694':                        date    farm_id ingredient_type    yield    farm_area  \\\n",
              " 6       2016-01-01 01:00:00  fid_85694           ing_w    0.000  2594.409178   \n",
              " 110     2016-01-01 02:00:00  fid_85694           ing_w    0.000  2594.409178   \n",
              " 214     2016-01-01 03:00:00  fid_85694           ing_w    0.000  2594.409178   \n",
              " 318     2016-01-01 04:00:00  fid_85694           ing_w    0.000  2594.409178   \n",
              " 422     2016-01-01 05:00:00  fid_85694           ing_w    0.000  2594.409178   \n",
              " ...                     ...        ...             ...      ...          ...   \n",
              " 916570  2016-12-31 19:00:00  fid_85694           ing_w  264.970  2594.409178   \n",
              " 916675  2016-12-31 20:00:00  fid_85694           ing_w  265.379  2594.409178   \n",
              " 916780  2016-12-31 21:00:00  fid_85694           ing_w  263.741  2594.409178   \n",
              " 916885  2016-12-31 22:00:00  fid_85694           ing_w  258.827  2594.409178   \n",
              " 916990  2016-12-31 23:00:00  fid_85694           ing_w  259.646  2594.409178   \n",
              " \n",
              "           farming_company deidentified_location  temp_obs  wind_direction  \\\n",
              " 6       Dole Food Company         location 7369      24.4            70.0   \n",
              " 110     Dole Food Company         location 7369      22.8             0.0   \n",
              " 214     Dole Food Company         location 7369      21.1             0.0   \n",
              " 318     Dole Food Company         location 7369      20.0           250.0   \n",
              " 422     Dole Food Company         location 7369      19.4             0.0   \n",
              " ...                   ...                   ...       ...             ...   \n",
              " 916570  Dole Food Company         location 7369      22.8           140.0   \n",
              " 916675  Dole Food Company         location 7369      23.3           170.0   \n",
              " 916780  Dole Food Company         location 7369      23.3           150.0   \n",
              " 916885  Dole Food Company         location 7369      22.8           160.0   \n",
              " 916990  Dole Food Company         location 7369      20.6             0.0   \n",
              " \n",
              "         dew_temp  pressure_sea_level  precipitation  wind_speed  \n",
              " 6           21.1              1020.2           -1.0         1.5  \n",
              " 110         21.1              1020.2            0.0         0.0  \n",
              " 214         20.6              1020.1            0.0         0.0  \n",
              " 318         20.0              1020.0           -1.0         2.6  \n",
              " 422         19.4              1019.7            0.0         0.0  \n",
              " ...          ...                 ...            ...         ...  \n",
              " 916570      10.0              1021.7            0.0         5.7  \n",
              " 916675       8.9              1021.0            0.0         4.1  \n",
              " 916780      10.0              1021.1            0.0         4.1  \n",
              " 916885      10.0              1021.1            0.0         3.1  \n",
              " 916990      10.0              1021.1            0.0         0.0  \n",
              " \n",
              " [8783 rows x 13 columns],\n",
              " 'fid_33785':                        date    farm_id ingredient_type    yield     farm_area  \\\n",
              " 7       2016-01-01 01:00:00  fid_33785           ing_w    0.000  11248.137822   \n",
              " 111     2016-01-01 02:00:00  fid_33785           ing_w    0.000  11248.137822   \n",
              " 215     2016-01-01 03:00:00  fid_33785           ing_w    0.000  11248.137822   \n",
              " 319     2016-01-01 04:00:00  fid_33785           ing_w    0.000  11248.137822   \n",
              " 423     2016-01-01 05:00:00  fid_33785           ing_w    0.000  11248.137822   \n",
              " ...                     ...        ...             ...      ...           ...   \n",
              " 916571  2016-12-31 19:00:00  fid_33785           ing_w  550.826  11248.137822   \n",
              " 916676  2016-12-31 20:00:00  fid_33785           ing_w  593.145  11248.137822   \n",
              " 916781  2016-12-31 21:00:00  fid_33785           ing_w  557.993  11248.137822   \n",
              " 916886  2016-12-31 22:00:00  fid_33785           ing_w  551.850  11248.137822   \n",
              " 916991  2016-12-31 23:00:00  fid_33785           ing_w  535.468  11248.137822   \n",
              " \n",
              "        farming_company deidentified_location  temp_obs  wind_direction  \\\n",
              " 7          Obery Farms         location 7369      24.4            70.0   \n",
              " 111        Obery Farms         location 7369      22.8             0.0   \n",
              " 215        Obery Farms         location 7369      21.1             0.0   \n",
              " 319        Obery Farms         location 7369      20.0           250.0   \n",
              " 423        Obery Farms         location 7369      19.4             0.0   \n",
              " ...                ...                   ...       ...             ...   \n",
              " 916571     Obery Farms         location 7369      22.8           140.0   \n",
              " 916676     Obery Farms         location 7369      23.3           170.0   \n",
              " 916781     Obery Farms         location 7369      23.3           150.0   \n",
              " 916886     Obery Farms         location 7369      22.8           160.0   \n",
              " 916991     Obery Farms         location 7369      20.6             0.0   \n",
              " \n",
              "         dew_temp  pressure_sea_level  precipitation  wind_speed  \n",
              " 7           21.1              1020.2           -1.0         1.5  \n",
              " 111         21.1              1020.2            0.0         0.0  \n",
              " 215         20.6              1020.1            0.0         0.0  \n",
              " 319         20.0              1020.0           -1.0         2.6  \n",
              " 423         19.4              1019.7            0.0         0.0  \n",
              " ...          ...                 ...            ...         ...  \n",
              " 916571      10.0              1021.7            0.0         5.7  \n",
              " 916676       8.9              1021.0            0.0         4.1  \n",
              " 916781      10.0              1021.1            0.0         4.1  \n",
              " 916886      10.0              1021.1            0.0         3.1  \n",
              " 916991      10.0              1021.1            0.0         0.0  \n",
              " \n",
              " [8783 rows x 13 columns],\n",
              " 'fid_110793':                        date     farm_id ingredient_type    yield    farm_area  \\\n",
              " 8       2016-01-01 01:00:00  fid_110793           ing_w    0.000  5649.338527   \n",
              " 112     2016-01-01 02:00:00  fid_110793           ing_w    0.000  5649.338527   \n",
              " 216     2016-01-01 03:00:00  fid_110793           ing_w    0.000  5649.338527   \n",
              " 320     2016-01-01 04:00:00  fid_110793           ing_w    0.000  5649.338527   \n",
              " 424     2016-01-01 05:00:00  fid_110793           ing_w    0.000  5649.338527   \n",
              " ...                     ...         ...             ...      ...          ...   \n",
              " 916572  2016-12-31 19:00:00  fid_110793           ing_w  555.604  5649.338527   \n",
              " 916677  2016-12-31 20:00:00  fid_110793           ing_w  577.446  5649.338527   \n",
              " 916782  2016-12-31 21:00:00  fid_110793           ing_w  540.246  5649.338527   \n",
              " 916887  2016-12-31 22:00:00  fid_110793           ing_w  513.968  5649.338527   \n",
              " 916992  2016-12-31 23:00:00  fid_110793           ing_w  505.436  5649.338527   \n",
              " \n",
              "        farming_company deidentified_location  temp_obs  wind_direction  \\\n",
              " 8          Obery Farms         location 7369      24.4            70.0   \n",
              " 112        Obery Farms         location 7369      22.8             0.0   \n",
              " 216        Obery Farms         location 7369      21.1             0.0   \n",
              " 320        Obery Farms         location 7369      20.0           250.0   \n",
              " 424        Obery Farms         location 7369      19.4             0.0   \n",
              " ...                ...                   ...       ...             ...   \n",
              " 916572     Obery Farms         location 7369      22.8           140.0   \n",
              " 916677     Obery Farms         location 7369      23.3           170.0   \n",
              " 916782     Obery Farms         location 7369      23.3           150.0   \n",
              " 916887     Obery Farms         location 7369      22.8           160.0   \n",
              " 916992     Obery Farms         location 7369      20.6             0.0   \n",
              " \n",
              "         dew_temp  pressure_sea_level  precipitation  wind_speed  \n",
              " 8           21.1              1020.2           -1.0         1.5  \n",
              " 112         21.1              1020.2            0.0         0.0  \n",
              " 216         20.6              1020.1            0.0         0.0  \n",
              " 320         20.0              1020.0           -1.0         2.6  \n",
              " 424         19.4              1019.7            0.0         0.0  \n",
              " ...          ...                 ...            ...         ...  \n",
              " 916572      10.0              1021.7            0.0         5.7  \n",
              " 916677       8.9              1021.0            0.0         4.1  \n",
              " 916782      10.0              1021.1            0.0         4.1  \n",
              " 916887      10.0              1021.1            0.0         3.1  \n",
              " 916992      10.0              1021.1            0.0         0.0  \n",
              " \n",
              " [8783 rows x 13 columns],\n",
              " 'fid_32954':                        date    farm_id ingredient_type    yield  farm_area  \\\n",
              " 9       2016-01-01 01:00:00  fid_32954           ing_w   0.0000   2508.381   \n",
              " 113     2016-01-01 02:00:00  fid_32954           ing_w   0.0000   2508.381   \n",
              " 217     2016-01-01 03:00:00  fid_32954           ing_w   0.0000   2508.381   \n",
              " 321     2016-01-01 04:00:00  fid_32954           ing_w   0.0000   2508.381   \n",
              " 425     2016-01-01 05:00:00  fid_32954           ing_w   0.0000   2508.381   \n",
              " ...                     ...        ...             ...      ...        ...   \n",
              " 916573  2016-12-31 19:00:00  fid_32954           ing_w  61.4304   2508.381   \n",
              " 916678  2016-12-31 20:00:00  fid_32954           ing_w  61.4304   2508.381   \n",
              " 916783  2016-12-31 21:00:00  fid_32954           ing_w  63.0686   2508.381   \n",
              " 916888  2016-12-31 22:00:00  fid_32954           ing_w  61.8400   2508.381   \n",
              " 916993  2016-12-31 23:00:00  fid_32954           ing_w  61.8400   2508.381   \n",
              " \n",
              "        farming_company deidentified_location  temp_obs  wind_direction  \\\n",
              " 9          Wayne Farms         location 7369      24.4            70.0   \n",
              " 113        Wayne Farms         location 7369      22.8             0.0   \n",
              " 217        Wayne Farms         location 7369      21.1             0.0   \n",
              " 321        Wayne Farms         location 7369      20.0           250.0   \n",
              " 425        Wayne Farms         location 7369      19.4             0.0   \n",
              " ...                ...                   ...       ...             ...   \n",
              " 916573     Wayne Farms         location 7369      22.8           140.0   \n",
              " 916678     Wayne Farms         location 7369      23.3           170.0   \n",
              " 916783     Wayne Farms         location 7369      23.3           150.0   \n",
              " 916888     Wayne Farms         location 7369      22.8           160.0   \n",
              " 916993     Wayne Farms         location 7369      20.6             0.0   \n",
              " \n",
              "         dew_temp  pressure_sea_level  precipitation  wind_speed  \n",
              " 9           21.1              1020.2           -1.0         1.5  \n",
              " 113         21.1              1020.2            0.0         0.0  \n",
              " 217         20.6              1020.1            0.0         0.0  \n",
              " 321         20.0              1020.0           -1.0         2.6  \n",
              " 425         19.4              1019.7            0.0         0.0  \n",
              " ...          ...                 ...            ...         ...  \n",
              " 916573      10.0              1021.7            0.0         5.7  \n",
              " 916678       8.9              1021.0            0.0         4.1  \n",
              " 916783      10.0              1021.1            0.0         4.1  \n",
              " 916888      10.0              1021.1            0.0         3.1  \n",
              " 916993      10.0              1021.1            0.0         0.0  \n",
              " \n",
              " [8783 rows x 13 columns]}"
            ]
          },
          "execution_count": 17,
          "metadata": {},
          "output_type": "execute_result"
        }
      ],
      "source": [
        "subsets  "
      ]
    },
    {
      "cell_type": "code",
      "execution_count": null,
      "metadata": {
        "colab": {
          "background_save": true
        },
        "id": "n19S45QIg7B-"
      },
      "outputs": [],
      "source": [
        "path='/content/drive/MyDrive/Capstone/farm_ids' #defining the path where i want to save my files"
      ]
    },
    {
      "cell_type": "markdown",
      "metadata": {
        "id": "vAWPKBeUfFTg"
      },
      "source": [
        "###converting each farm_id consist of ing_w subset into csv file"
      ]
    },
    {
      "cell_type": "code",
      "execution_count": null,
      "metadata": {
        "colab": {
          "base_uri": "https://localhost:8080/"
        },
        "id": "lJsNlTxFgMdf",
        "outputId": "4cea2a3b-7e56-44aa-dd47-8f89e0ab17b6"
      },
      "outputs": [
        {
          "name": "stdout",
          "output_type": "stream",
          "text": [
            "CPU times: user 672 ms, sys: 25.8 ms, total: 697 ms\n",
            "Wall time: 3.94 s\n"
          ]
        }
      ],
      "source": [
        "%%time\n",
        "for i in subsets:   #The for loop iterates over each element i in the sequence subsets.\n",
        "  subsets[i].to_csv(path+'/'+i+'.csv',index=False) #The / symbol is used to separate the directory and the file name,\n",
        "                                  # and the + symbol is used to concatenate the strings."
      ]
    },
    {
      "cell_type": "markdown",
      "metadata": {
        "id": "7bPzYIB5e7iF"
      },
      "source": [
        "###reading all the files at a time using glob"
      ]
    },
    {
      "cell_type": "code",
      "execution_count": null,
      "metadata": {
        "id": "M-SEW7RqlqD6"
      },
      "outputs": [],
      "source": [
        "# create empty list\n",
        "list_of_names=[] \n",
        "#The glob.glob function is used to search for all files in the directory specified by path \n",
        "#that match the pattern *.csv\n",
        "for i in glob.glob(path+'/'+\"*.csv\"):\n",
        "  list_of_names.append(i)  "
      ]
    },
    {
      "cell_type": "code",
      "execution_count": null,
      "metadata": {
        "id": "BO-di3HAkhnq"
      },
      "outputs": [],
      "source": [
        " #create empty list\n",
        "dataframes_list = []\n",
        "#For each iteration of the loop, the line temp_df=pd.read_csv(list_of_names[i]) reads the .csv file \n",
        "#at the index i of the list list_of_names into a pandas dataframe \n",
        "for i in range (len(list_of_names)):\n",
        "  temp_df=pd.read_csv(list_of_names[i])\n",
        "  dataframes_list.append(temp_df)\n",
        "  "
      ]
    },
    {
      "cell_type": "code",
      "execution_count": null,
      "metadata": {
        "colab": {
          "base_uri": "https://localhost:8080/"
        },
        "id": "8kRrUoi22HwC",
        "outputId": "971b1ac2-3841-4e0c-9370-a33c1dfa0c0a"
      },
      "outputs": [
        {
          "name": "stdout",
          "output_type": "stream",
          "text": [
            "(8783, 13)\n",
            "(8783, 13)\n",
            "(8783, 13)\n",
            "(8783, 13)\n",
            "(8783, 13)\n",
            "(8783, 13)\n",
            "(8783, 13)\n",
            "(8783, 13)\n",
            "(8783, 13)\n",
            "(8783, 13)\n"
          ]
        }
      ],
      "source": [
        "for i in dataframes_list:\n",
        "  print(i.shape)"
      ]
    },
    {
      "cell_type": "code",
      "execution_count": null,
      "metadata": {
        "colab": {
          "base_uri": "https://localhost:8080/",
          "height": 835
        },
        "id": "GmC_grH1mZuC",
        "outputId": "340518e7-0cdf-4603-df6c-df9342f5ca8a"
      },
      "outputs": [
        {
          "data": {
            "text/html": [
              "\n",
              "  <div id=\"df-b64fae55-2d12-43b0-9c74-7afd3e600eec\">\n",
              "    <div class=\"colab-df-container\">\n",
              "      <div>\n",
              "<style scoped>\n",
              "    .dataframe tbody tr th:only-of-type {\n",
              "        vertical-align: middle;\n",
              "    }\n",
              "\n",
              "    .dataframe tbody tr th {\n",
              "        vertical-align: top;\n",
              "    }\n",
              "\n",
              "    .dataframe thead th {\n",
              "        text-align: right;\n",
              "    }\n",
              "</style>\n",
              "<table border=\"1\" class=\"dataframe\">\n",
              "  <thead>\n",
              "    <tr style=\"text-align: right;\">\n",
              "      <th></th>\n",
              "      <th>date</th>\n",
              "      <th>farm_id</th>\n",
              "      <th>ingredient_type</th>\n",
              "      <th>yield</th>\n",
              "      <th>farm_area</th>\n",
              "      <th>farming_company</th>\n",
              "      <th>deidentified_location</th>\n",
              "      <th>temp_obs</th>\n",
              "      <th>wind_direction</th>\n",
              "      <th>dew_temp</th>\n",
              "      <th>pressure_sea_level</th>\n",
              "      <th>precipitation</th>\n",
              "      <th>wind_speed</th>\n",
              "    </tr>\n",
              "  </thead>\n",
              "  <tbody>\n",
              "    <tr>\n",
              "      <th>0</th>\n",
              "      <td>2016-01-01 01:00:00</td>\n",
              "      <td>fid_110884</td>\n",
              "      <td>ing_w</td>\n",
              "      <td>0.000</td>\n",
              "      <td>690.455096</td>\n",
              "      <td>Obery Farms</td>\n",
              "      <td>location 7369</td>\n",
              "      <td>24.4</td>\n",
              "      <td>70.0</td>\n",
              "      <td>21.1</td>\n",
              "      <td>1020.2</td>\n",
              "      <td>-1.0</td>\n",
              "      <td>1.5</td>\n",
              "    </tr>\n",
              "    <tr>\n",
              "      <th>1</th>\n",
              "      <td>2016-01-01 02:00:00</td>\n",
              "      <td>fid_110884</td>\n",
              "      <td>ing_w</td>\n",
              "      <td>0.000</td>\n",
              "      <td>690.455096</td>\n",
              "      <td>Obery Farms</td>\n",
              "      <td>location 7369</td>\n",
              "      <td>22.8</td>\n",
              "      <td>0.0</td>\n",
              "      <td>21.1</td>\n",
              "      <td>1020.2</td>\n",
              "      <td>0.0</td>\n",
              "      <td>0.0</td>\n",
              "    </tr>\n",
              "    <tr>\n",
              "      <th>2</th>\n",
              "      <td>2016-01-01 03:00:00</td>\n",
              "      <td>fid_110884</td>\n",
              "      <td>ing_w</td>\n",
              "      <td>0.000</td>\n",
              "      <td>690.455096</td>\n",
              "      <td>Obery Farms</td>\n",
              "      <td>location 7369</td>\n",
              "      <td>21.1</td>\n",
              "      <td>0.0</td>\n",
              "      <td>20.6</td>\n",
              "      <td>1020.1</td>\n",
              "      <td>0.0</td>\n",
              "      <td>0.0</td>\n",
              "    </tr>\n",
              "    <tr>\n",
              "      <th>3</th>\n",
              "      <td>2016-01-01 04:00:00</td>\n",
              "      <td>fid_110884</td>\n",
              "      <td>ing_w</td>\n",
              "      <td>0.000</td>\n",
              "      <td>690.455096</td>\n",
              "      <td>Obery Farms</td>\n",
              "      <td>location 7369</td>\n",
              "      <td>20.0</td>\n",
              "      <td>250.0</td>\n",
              "      <td>20.0</td>\n",
              "      <td>1020.0</td>\n",
              "      <td>-1.0</td>\n",
              "      <td>2.6</td>\n",
              "    </tr>\n",
              "    <tr>\n",
              "      <th>4</th>\n",
              "      <td>2016-01-01 05:00:00</td>\n",
              "      <td>fid_110884</td>\n",
              "      <td>ing_w</td>\n",
              "      <td>0.000</td>\n",
              "      <td>690.455096</td>\n",
              "      <td>Obery Farms</td>\n",
              "      <td>location 7369</td>\n",
              "      <td>19.4</td>\n",
              "      <td>0.0</td>\n",
              "      <td>19.4</td>\n",
              "      <td>1019.7</td>\n",
              "      <td>0.0</td>\n",
              "      <td>0.0</td>\n",
              "    </tr>\n",
              "    <tr>\n",
              "      <th>...</th>\n",
              "      <td>...</td>\n",
              "      <td>...</td>\n",
              "      <td>...</td>\n",
              "      <td>...</td>\n",
              "      <td>...</td>\n",
              "      <td>...</td>\n",
              "      <td>...</td>\n",
              "      <td>...</td>\n",
              "      <td>...</td>\n",
              "      <td>...</td>\n",
              "      <td>...</td>\n",
              "      <td>...</td>\n",
              "      <td>...</td>\n",
              "    </tr>\n",
              "    <tr>\n",
              "      <th>8778</th>\n",
              "      <td>2016-12-31 19:00:00</td>\n",
              "      <td>fid_110884</td>\n",
              "      <td>ing_w</td>\n",
              "      <td>232.071</td>\n",
              "      <td>690.455096</td>\n",
              "      <td>Obery Farms</td>\n",
              "      <td>location 7369</td>\n",
              "      <td>22.8</td>\n",
              "      <td>140.0</td>\n",
              "      <td>10.0</td>\n",
              "      <td>1021.7</td>\n",
              "      <td>0.0</td>\n",
              "      <td>5.7</td>\n",
              "    </tr>\n",
              "    <tr>\n",
              "      <th>8779</th>\n",
              "      <td>2016-12-31 20:00:00</td>\n",
              "      <td>fid_110884</td>\n",
              "      <td>ing_w</td>\n",
              "      <td>189.069</td>\n",
              "      <td>690.455096</td>\n",
              "      <td>Obery Farms</td>\n",
              "      <td>location 7369</td>\n",
              "      <td>23.3</td>\n",
              "      <td>170.0</td>\n",
              "      <td>8.9</td>\n",
              "      <td>1021.0</td>\n",
              "      <td>0.0</td>\n",
              "      <td>4.1</td>\n",
              "    </tr>\n",
              "    <tr>\n",
              "      <th>8780</th>\n",
              "      <td>2016-12-31 21:00:00</td>\n",
              "      <td>fid_110884</td>\n",
              "      <td>ing_w</td>\n",
              "      <td>169.958</td>\n",
              "      <td>690.455096</td>\n",
              "      <td>Obery Farms</td>\n",
              "      <td>location 7369</td>\n",
              "      <td>23.3</td>\n",
              "      <td>150.0</td>\n",
              "      <td>10.0</td>\n",
              "      <td>1021.1</td>\n",
              "      <td>0.0</td>\n",
              "      <td>4.1</td>\n",
              "    </tr>\n",
              "    <tr>\n",
              "      <th>8781</th>\n",
              "      <td>2016-12-31 22:00:00</td>\n",
              "      <td>fid_110884</td>\n",
              "      <td>ing_w</td>\n",
              "      <td>169.958</td>\n",
              "      <td>690.455096</td>\n",
              "      <td>Obery Farms</td>\n",
              "      <td>location 7369</td>\n",
              "      <td>22.8</td>\n",
              "      <td>160.0</td>\n",
              "      <td>10.0</td>\n",
              "      <td>1021.1</td>\n",
              "      <td>0.0</td>\n",
              "      <td>3.1</td>\n",
              "    </tr>\n",
              "    <tr>\n",
              "      <th>8782</th>\n",
              "      <td>2016-12-31 23:00:00</td>\n",
              "      <td>fid_110884</td>\n",
              "      <td>ing_w</td>\n",
              "      <td>175.418</td>\n",
              "      <td>690.455096</td>\n",
              "      <td>Obery Farms</td>\n",
              "      <td>location 7369</td>\n",
              "      <td>20.6</td>\n",
              "      <td>0.0</td>\n",
              "      <td>10.0</td>\n",
              "      <td>1021.1</td>\n",
              "      <td>0.0</td>\n",
              "      <td>0.0</td>\n",
              "    </tr>\n",
              "  </tbody>\n",
              "</table>\n",
              "<p>8783 rows × 13 columns</p>\n",
              "</div>\n",
              "      <button class=\"colab-df-convert\" onclick=\"convertToInteractive('df-b64fae55-2d12-43b0-9c74-7afd3e600eec')\"\n",
              "              title=\"Convert this dataframe to an interactive table.\"\n",
              "              style=\"display:none;\">\n",
              "        \n",
              "  <svg xmlns=\"http://www.w3.org/2000/svg\" height=\"24px\"viewBox=\"0 0 24 24\"\n",
              "       width=\"24px\">\n",
              "    <path d=\"M0 0h24v24H0V0z\" fill=\"none\"/>\n",
              "    <path d=\"M18.56 5.44l.94 2.06.94-2.06 2.06-.94-2.06-.94-.94-2.06-.94 2.06-2.06.94zm-11 1L8.5 8.5l.94-2.06 2.06-.94-2.06-.94L8.5 2.5l-.94 2.06-2.06.94zm10 10l.94 2.06.94-2.06 2.06-.94-2.06-.94-.94-2.06-.94 2.06-2.06.94z\"/><path d=\"M17.41 7.96l-1.37-1.37c-.4-.4-.92-.59-1.43-.59-.52 0-1.04.2-1.43.59L10.3 9.45l-7.72 7.72c-.78.78-.78 2.05 0 2.83L4 21.41c.39.39.9.59 1.41.59.51 0 1.02-.2 1.41-.59l7.78-7.78 2.81-2.81c.8-.78.8-2.07 0-2.86zM5.41 20L4 18.59l7.72-7.72 1.47 1.35L5.41 20z\"/>\n",
              "  </svg>\n",
              "      </button>\n",
              "      \n",
              "  <style>\n",
              "    .colab-df-container {\n",
              "      display:flex;\n",
              "      flex-wrap:wrap;\n",
              "      gap: 12px;\n",
              "    }\n",
              "\n",
              "    .colab-df-convert {\n",
              "      background-color: #E8F0FE;\n",
              "      border: none;\n",
              "      border-radius: 50%;\n",
              "      cursor: pointer;\n",
              "      display: none;\n",
              "      fill: #1967D2;\n",
              "      height: 32px;\n",
              "      padding: 0 0 0 0;\n",
              "      width: 32px;\n",
              "    }\n",
              "\n",
              "    .colab-df-convert:hover {\n",
              "      background-color: #E2EBFA;\n",
              "      box-shadow: 0px 1px 2px rgba(60, 64, 67, 0.3), 0px 1px 3px 1px rgba(60, 64, 67, 0.15);\n",
              "      fill: #174EA6;\n",
              "    }\n",
              "\n",
              "    [theme=dark] .colab-df-convert {\n",
              "      background-color: #3B4455;\n",
              "      fill: #D2E3FC;\n",
              "    }\n",
              "\n",
              "    [theme=dark] .colab-df-convert:hover {\n",
              "      background-color: #434B5C;\n",
              "      box-shadow: 0px 1px 3px 1px rgba(0, 0, 0, 0.15);\n",
              "      filter: drop-shadow(0px 1px 2px rgba(0, 0, 0, 0.3));\n",
              "      fill: #FFFFFF;\n",
              "    }\n",
              "  </style>\n",
              "\n",
              "      <script>\n",
              "        const buttonEl =\n",
              "          document.querySelector('#df-b64fae55-2d12-43b0-9c74-7afd3e600eec button.colab-df-convert');\n",
              "        buttonEl.style.display =\n",
              "          google.colab.kernel.accessAllowed ? 'block' : 'none';\n",
              "\n",
              "        async function convertToInteractive(key) {\n",
              "          const element = document.querySelector('#df-b64fae55-2d12-43b0-9c74-7afd3e600eec');\n",
              "          const dataTable =\n",
              "            await google.colab.kernel.invokeFunction('convertToInteractive',\n",
              "                                                     [key], {});\n",
              "          if (!dataTable) return;\n",
              "\n",
              "          const docLinkHtml = 'Like what you see? Visit the ' +\n",
              "            '<a target=\"_blank\" href=https://colab.research.google.com/notebooks/data_table.ipynb>data table notebook</a>'\n",
              "            + ' to learn more about interactive tables.';\n",
              "          element.innerHTML = '';\n",
              "          dataTable['output_type'] = 'display_data';\n",
              "          await google.colab.output.renderOutput(dataTable, element);\n",
              "          const docLink = document.createElement('div');\n",
              "          docLink.innerHTML = docLinkHtml;\n",
              "          element.appendChild(docLink);\n",
              "        }\n",
              "      </script>\n",
              "    </div>\n",
              "  </div>\n",
              "  "
            ],
            "text/plain": [
              "                     date     farm_id ingredient_type    yield   farm_area  \\\n",
              "0     2016-01-01 01:00:00  fid_110884           ing_w    0.000  690.455096   \n",
              "1     2016-01-01 02:00:00  fid_110884           ing_w    0.000  690.455096   \n",
              "2     2016-01-01 03:00:00  fid_110884           ing_w    0.000  690.455096   \n",
              "3     2016-01-01 04:00:00  fid_110884           ing_w    0.000  690.455096   \n",
              "4     2016-01-01 05:00:00  fid_110884           ing_w    0.000  690.455096   \n",
              "...                   ...         ...             ...      ...         ...   \n",
              "8778  2016-12-31 19:00:00  fid_110884           ing_w  232.071  690.455096   \n",
              "8779  2016-12-31 20:00:00  fid_110884           ing_w  189.069  690.455096   \n",
              "8780  2016-12-31 21:00:00  fid_110884           ing_w  169.958  690.455096   \n",
              "8781  2016-12-31 22:00:00  fid_110884           ing_w  169.958  690.455096   \n",
              "8782  2016-12-31 23:00:00  fid_110884           ing_w  175.418  690.455096   \n",
              "\n",
              "     farming_company deidentified_location  temp_obs  wind_direction  \\\n",
              "0        Obery Farms         location 7369      24.4            70.0   \n",
              "1        Obery Farms         location 7369      22.8             0.0   \n",
              "2        Obery Farms         location 7369      21.1             0.0   \n",
              "3        Obery Farms         location 7369      20.0           250.0   \n",
              "4        Obery Farms         location 7369      19.4             0.0   \n",
              "...              ...                   ...       ...             ...   \n",
              "8778     Obery Farms         location 7369      22.8           140.0   \n",
              "8779     Obery Farms         location 7369      23.3           170.0   \n",
              "8780     Obery Farms         location 7369      23.3           150.0   \n",
              "8781     Obery Farms         location 7369      22.8           160.0   \n",
              "8782     Obery Farms         location 7369      20.6             0.0   \n",
              "\n",
              "      dew_temp  pressure_sea_level  precipitation  wind_speed  \n",
              "0         21.1              1020.2           -1.0         1.5  \n",
              "1         21.1              1020.2            0.0         0.0  \n",
              "2         20.6              1020.1            0.0         0.0  \n",
              "3         20.0              1020.0           -1.0         2.6  \n",
              "4         19.4              1019.7            0.0         0.0  \n",
              "...        ...                 ...            ...         ...  \n",
              "8778      10.0              1021.7            0.0         5.7  \n",
              "8779       8.9              1021.0            0.0         4.1  \n",
              "8780      10.0              1021.1            0.0         4.1  \n",
              "8781      10.0              1021.1            0.0         3.1  \n",
              "8782      10.0              1021.1            0.0         0.0  \n",
              "\n",
              "[8783 rows x 13 columns]"
            ]
          },
          "execution_count": 15,
          "metadata": {},
          "output_type": "execute_result"
        }
      ],
      "source": [
        "data1=dataframes_list[0] # 0th index values are taking in data1\n",
        "data1"
      ]
    },
    {
      "cell_type": "code",
      "execution_count": null,
      "metadata": {
        "id": "K9YoUxtnm2gI"
      },
      "outputs": [],
      "source": [
        "# data_w[data_w['farm_id']== 'fid_100053']"
      ]
    },
    {
      "cell_type": "markdown",
      "metadata": {
        "id": "TGzizxVNtZ4W"
      },
      "source": [
        "# Repeating same above for other ingridients also"
      ]
    },
    {
      "cell_type": "markdown",
      "metadata": {
        "id": "NTAgkpcXAEiU"
      },
      "source": [
        "#ing_x"
      ]
    },
    {
      "cell_type": "code",
      "execution_count": null,
      "metadata": {
        "id": "PscLPwE5Lj5_"
      },
      "outputs": [],
      "source": [
        "data_x=pd.read_csv('/content/drive/MyDrive/Capstone/ingredient type/ing_sort/ing_x.csv')"
      ]
    },
    {
      "cell_type": "code",
      "execution_count": null,
      "metadata": {
        "id": "x1SgGGpAAWDn"
      },
      "outputs": [],
      "source": [
        "data_x.drop(['operations_commencing_year','num_processing_plants','cloudiness'],axis=1,inplace=True)"
      ]
    },
    {
      "cell_type": "code",
      "execution_count": null,
      "metadata": {
        "id": "CzfHAJILGJy3"
      },
      "outputs": [],
      "source": [
        "data_x.drop([0],axis=0,inplace=True)"
      ]
    },
    {
      "cell_type": "code",
      "execution_count": null,
      "metadata": {
        "id": "cZOrrp9lZdLt"
      },
      "outputs": [],
      "source": [
        "#taking missing colums in a list\n",
        "missing_col=['temp_obs','wind_direction','dew_temp','pressure_sea_level','precipitation','wind_speed']\n",
        "data_x=interpolate_columns(data_x,missing_col)"
      ]
    },
    {
      "cell_type": "code",
      "execution_count": null,
      "metadata": {
        "id": "STtWCQIwGGOu"
      },
      "outputs": [],
      "source": [
        "data_x.isnull().sum()"
      ]
    },
    {
      "cell_type": "code",
      "execution_count": null,
      "metadata": {
        "id": "8C3bFLtfGfkq"
      },
      "outputs": [],
      "source": [
        "#saving cleaned data_w to csv\n",
        "data_x.to_csv('/content/drive/MyDrive/Capstone/ingredient type/data_x')"
      ]
    },
    {
      "cell_type": "markdown",
      "metadata": {
        "id": "SNxGrYVqG1H5"
      },
      "source": [
        "#ing_y"
      ]
    },
    {
      "cell_type": "code",
      "execution_count": null,
      "metadata": {
        "id": "dsf6wr2JGul5"
      },
      "outputs": [],
      "source": [
        "data_y=pd.read_csv('/content/drive/MyDrive/Capstone/ingredient type/ing_sort/ing_y.csv')"
      ]
    },
    {
      "cell_type": "code",
      "execution_count": null,
      "metadata": {
        "id": "zX3lGE9OG66L"
      },
      "outputs": [],
      "source": [
        "data_y.drop(['operations_commencing_year','num_processing_plants','cloudiness'],axis=1,inplace=True)"
      ]
    },
    {
      "cell_type": "code",
      "execution_count": null,
      "metadata": {
        "id": "_P0oqyUHG_m4"
      },
      "outputs": [],
      "source": [
        "data_y.drop([0],axis=0,inplace=True)"
      ]
    },
    {
      "cell_type": "code",
      "execution_count": null,
      "metadata": {
        "id": "IM93urODZxXi"
      },
      "outputs": [],
      "source": [
        "#taking missing colums in a list\n",
        "missing_col=['temp_obs','wind_direction','dew_temp','pressure_sea_level','precipitation','wind_speed']\n",
        "data_y=interpolate_columns(data_y,missing_col)"
      ]
    },
    {
      "cell_type": "code",
      "execution_count": null,
      "metadata": {
        "id": "4Uk9n-fTHUpA"
      },
      "outputs": [],
      "source": [
        "#saving cleaned data_y to csv\n",
        "data_y.to_csv('/content/drive/MyDrive/Capstone/ingredient type/data_y')"
      ]
    },
    {
      "cell_type": "markdown",
      "metadata": {
        "id": "kNaYnqqVHsFH"
      },
      "source": [
        "#ing_z"
      ]
    },
    {
      "cell_type": "code",
      "execution_count": null,
      "metadata": {
        "id": "3pKFOcWHHeZf"
      },
      "outputs": [],
      "source": [
        "data_z=pd.read_csv('/content/drive/MyDrive/Capstone/ingredient type/ing_sort/ing_z.csv')"
      ]
    },
    {
      "cell_type": "code",
      "execution_count": null,
      "metadata": {
        "id": "nu4ZuoUSHv42"
      },
      "outputs": [],
      "source": [
        "data_z.drop(['operations_commencing_year','num_processing_plants','cloudiness'],axis=1,inplace=True)"
      ]
    },
    {
      "cell_type": "code",
      "execution_count": null,
      "metadata": {
        "id": "NK_spSZeH_lc"
      },
      "outputs": [],
      "source": [
        "data_z.drop([0],axis=0,inplace=True)"
      ]
    },
    {
      "cell_type": "code",
      "execution_count": null,
      "metadata": {
        "id": "1ntdZAmiZ3eU"
      },
      "outputs": [],
      "source": [
        "#taking missing colums in a list\n",
        "missing_col=['temp_obs','wind_direction','dew_temp','pressure_sea_level','precipitation','wind_speed']\n",
        "data_z=interpolate_columns(data_z,missing_col)"
      ]
    },
    {
      "cell_type": "code",
      "execution_count": null,
      "metadata": {
        "id": "DP4wM99_IR8j"
      },
      "outputs": [],
      "source": [
        "#saving cleaned data_y to csv\n",
        "data_z.to_csv('/content/drive/MyDrive/Capstone/ingredient type/data_z')"
      ]
    },
    {
      "cell_type": "code",
      "execution_count": null,
      "metadata": {
        "id": "MYA_NE3RIaRv"
      },
      "outputs": [],
      "source": []
    },
    {
      "cell_type": "markdown",
      "metadata": {
        "id": "lX91N3FqhXgY"
      },
      "source": [
        "# Test_w"
      ]
    },
    {
      "cell_type": "code",
      "execution_count": null,
      "metadata": {
        "colab": {
          "background_save": true,
          "base_uri": "https://localhost:8080/",
          "height": 190
        },
        "id": "GyQ4266ihZyg",
        "outputId": "ccde3656-1468-4831-ce3d-5ca77488aee4"
      },
      "outputs": [
        {
          "data": {
            "text/html": [
              "\n",
              "  <div id=\"df-b2aebdce-d387-490e-bff6-4306e68438c5\">\n",
              "    <div class=\"colab-df-container\">\n",
              "      <div>\n",
              "<style scoped>\n",
              "    .dataframe tbody tr th:only-of-type {\n",
              "        vertical-align: middle;\n",
              "    }\n",
              "\n",
              "    .dataframe tbody tr th {\n",
              "        vertical-align: top;\n",
              "    }\n",
              "\n",
              "    .dataframe thead th {\n",
              "        text-align: right;\n",
              "    }\n",
              "</style>\n",
              "<table border=\"1\" class=\"dataframe\">\n",
              "  <thead>\n",
              "    <tr style=\"text-align: right;\">\n",
              "      <th></th>\n",
              "      <th>date</th>\n",
              "      <th>farm_id</th>\n",
              "      <th>ingredient_type</th>\n",
              "      <th>id</th>\n",
              "      <th>farm_area</th>\n",
              "      <th>farming_company</th>\n",
              "      <th>deidentified_location</th>\n",
              "      <th>temp_obs</th>\n",
              "      <th>wind_direction</th>\n",
              "      <th>dew_temp</th>\n",
              "      <th>pressure_sea_level</th>\n",
              "      <th>precipitation</th>\n",
              "      <th>wind_speed</th>\n",
              "    </tr>\n",
              "  </thead>\n",
              "  <tbody>\n",
              "    <tr>\n",
              "      <th>0</th>\n",
              "      <td>2017-01-01 00:00:00</td>\n",
              "      <td>fid_110884</td>\n",
              "      <td>ing_w</td>\n",
              "      <td>0</td>\n",
              "      <td>690.455096</td>\n",
              "      <td>Obery Farms</td>\n",
              "      <td>location 7369</td>\n",
              "      <td>17.8</td>\n",
              "      <td>100.0</td>\n",
              "      <td>11.7</td>\n",
              "      <td>1021.4</td>\n",
              "      <td>0.0</td>\n",
              "      <td>3.6</td>\n",
              "    </tr>\n",
              "    <tr>\n",
              "      <th>1</th>\n",
              "      <td>2017-01-01 00:00:00</td>\n",
              "      <td>fid_90053</td>\n",
              "      <td>ing_w</td>\n",
              "      <td>1</td>\n",
              "      <td>252.696160</td>\n",
              "      <td>Obery Farms</td>\n",
              "      <td>location 7369</td>\n",
              "      <td>17.8</td>\n",
              "      <td>100.0</td>\n",
              "      <td>11.7</td>\n",
              "      <td>1021.4</td>\n",
              "      <td>0.0</td>\n",
              "      <td>3.6</td>\n",
              "    </tr>\n",
              "    <tr>\n",
              "      <th>2</th>\n",
              "      <td>2017-01-01 00:00:00</td>\n",
              "      <td>fid_17537</td>\n",
              "      <td>ing_w</td>\n",
              "      <td>2</td>\n",
              "      <td>499.446528</td>\n",
              "      <td>Obery Farms</td>\n",
              "      <td>location 7369</td>\n",
              "      <td>17.8</td>\n",
              "      <td>100.0</td>\n",
              "      <td>11.7</td>\n",
              "      <td>1021.4</td>\n",
              "      <td>0.0</td>\n",
              "      <td>3.6</td>\n",
              "    </tr>\n",
              "    <tr>\n",
              "      <th>3</th>\n",
              "      <td>2017-01-01 00:00:00</td>\n",
              "      <td>fid_110392</td>\n",
              "      <td>ing_w</td>\n",
              "      <td>3</td>\n",
              "      <td>2200.407555</td>\n",
              "      <td>Obery Farms</td>\n",
              "      <td>location 7369</td>\n",
              "      <td>17.8</td>\n",
              "      <td>100.0</td>\n",
              "      <td>11.7</td>\n",
              "      <td>1021.4</td>\n",
              "      <td>0.0</td>\n",
              "      <td>3.6</td>\n",
              "    </tr>\n",
              "    <tr>\n",
              "      <th>4</th>\n",
              "      <td>2017-01-01 00:00:00</td>\n",
              "      <td>fid_62402</td>\n",
              "      <td>ing_w</td>\n",
              "      <td>4</td>\n",
              "      <td>10833.140121</td>\n",
              "      <td>Obery Farms</td>\n",
              "      <td>location 7369</td>\n",
              "      <td>17.8</td>\n",
              "      <td>100.0</td>\n",
              "      <td>11.7</td>\n",
              "      <td>1021.4</td>\n",
              "      <td>0.0</td>\n",
              "      <td>3.6</td>\n",
              "    </tr>\n",
              "    <tr>\n",
              "      <th>...</th>\n",
              "      <td>...</td>\n",
              "      <td>...</td>\n",
              "      <td>...</td>\n",
              "      <td>...</td>\n",
              "      <td>...</td>\n",
              "      <td>...</td>\n",
              "      <td>...</td>\n",
              "      <td>...</td>\n",
              "      <td>...</td>\n",
              "      <td>...</td>\n",
              "      <td>...</td>\n",
              "      <td>...</td>\n",
              "      <td>...</td>\n",
              "    </tr>\n",
              "    <tr>\n",
              "      <th>12599379</th>\n",
              "      <td>2017-12-31 23:00:00</td>\n",
              "      <td>fid_74945</td>\n",
              "      <td>ing_w</td>\n",
              "      <td>26001706</td>\n",
              "      <td>7561.375170</td>\n",
              "      <td>Obery Farms</td>\n",
              "      <td>location 868</td>\n",
              "      <td>-21.1</td>\n",
              "      <td>270.0</td>\n",
              "      <td>-26.8</td>\n",
              "      <td>1029.8</td>\n",
              "      <td>2.0</td>\n",
              "      <td>4.6</td>\n",
              "    </tr>\n",
              "    <tr>\n",
              "      <th>12599380</th>\n",
              "      <td>2017-12-31 23:00:00</td>\n",
              "      <td>fid_36739</td>\n",
              "      <td>ing_w</td>\n",
              "      <td>26001709</td>\n",
              "      <td>14173.188777</td>\n",
              "      <td>Obery Farms</td>\n",
              "      <td>location 868</td>\n",
              "      <td>-21.1</td>\n",
              "      <td>270.0</td>\n",
              "      <td>-26.8</td>\n",
              "      <td>1029.8</td>\n",
              "      <td>2.0</td>\n",
              "      <td>4.6</td>\n",
              "    </tr>\n",
              "    <tr>\n",
              "      <th>12599381</th>\n",
              "      <td>2017-12-31 23:00:00</td>\n",
              "      <td>fid_112848</td>\n",
              "      <td>ing_w</td>\n",
              "      <td>26001711</td>\n",
              "      <td>6320.191090</td>\n",
              "      <td>Obery Farms</td>\n",
              "      <td>location 868</td>\n",
              "      <td>-21.1</td>\n",
              "      <td>270.0</td>\n",
              "      <td>-26.8</td>\n",
              "      <td>1029.8</td>\n",
              "      <td>2.0</td>\n",
              "      <td>4.6</td>\n",
              "    </tr>\n",
              "    <tr>\n",
              "      <th>12599382</th>\n",
              "      <td>2017-12-31 23:00:00</td>\n",
              "      <td>fid_58769</td>\n",
              "      <td>ing_w</td>\n",
              "      <td>26001714</td>\n",
              "      <td>8659.117018</td>\n",
              "      <td>Obery Farms</td>\n",
              "      <td>location 868</td>\n",
              "      <td>-21.1</td>\n",
              "      <td>270.0</td>\n",
              "      <td>-26.8</td>\n",
              "      <td>1029.8</td>\n",
              "      <td>2.0</td>\n",
              "      <td>4.6</td>\n",
              "    </tr>\n",
              "    <tr>\n",
              "      <th>12599383</th>\n",
              "      <td>2017-12-31 23:00:00</td>\n",
              "      <td>fid_117010</td>\n",
              "      <td>ing_w</td>\n",
              "      <td>26001717</td>\n",
              "      <td>11857.395696</td>\n",
              "      <td>Obery Farms</td>\n",
              "      <td>location 868</td>\n",
              "      <td>-21.1</td>\n",
              "      <td>270.0</td>\n",
              "      <td>-26.8</td>\n",
              "      <td>1029.8</td>\n",
              "      <td>2.0</td>\n",
              "      <td>4.6</td>\n",
              "    </tr>\n",
              "  </tbody>\n",
              "</table>\n",
              "<p>12599384 rows × 13 columns</p>\n",
              "</div>\n",
              "      <button class=\"colab-df-convert\" onclick=\"convertToInteractive('df-b2aebdce-d387-490e-bff6-4306e68438c5')\"\n",
              "              title=\"Convert this dataframe to an interactive table.\"\n",
              "              style=\"display:none;\">\n",
              "        \n",
              "  <svg xmlns=\"http://www.w3.org/2000/svg\" height=\"24px\"viewBox=\"0 0 24 24\"\n",
              "       width=\"24px\">\n",
              "    <path d=\"M0 0h24v24H0V0z\" fill=\"none\"/>\n",
              "    <path d=\"M18.56 5.44l.94 2.06.94-2.06 2.06-.94-2.06-.94-.94-2.06-.94 2.06-2.06.94zm-11 1L8.5 8.5l.94-2.06 2.06-.94-2.06-.94L8.5 2.5l-.94 2.06-2.06.94zm10 10l.94 2.06.94-2.06 2.06-.94-2.06-.94-.94-2.06-.94 2.06-2.06.94z\"/><path d=\"M17.41 7.96l-1.37-1.37c-.4-.4-.92-.59-1.43-.59-.52 0-1.04.2-1.43.59L10.3 9.45l-7.72 7.72c-.78.78-.78 2.05 0 2.83L4 21.41c.39.39.9.59 1.41.59.51 0 1.02-.2 1.41-.59l7.78-7.78 2.81-2.81c.8-.78.8-2.07 0-2.86zM5.41 20L4 18.59l7.72-7.72 1.47 1.35L5.41 20z\"/>\n",
              "  </svg>\n",
              "      </button>\n",
              "      \n",
              "  <style>\n",
              "    .colab-df-container {\n",
              "      display:flex;\n",
              "      flex-wrap:wrap;\n",
              "      gap: 12px;\n",
              "    }\n",
              "\n",
              "    .colab-df-convert {\n",
              "      background-color: #E8F0FE;\n",
              "      border: none;\n",
              "      border-radius: 50%;\n",
              "      cursor: pointer;\n",
              "      display: none;\n",
              "      fill: #1967D2;\n",
              "      height: 32px;\n",
              "      padding: 0 0 0 0;\n",
              "      width: 32px;\n",
              "    }\n",
              "\n",
              "    .colab-df-convert:hover {\n",
              "      background-color: #E2EBFA;\n",
              "      box-shadow: 0px 1px 2px rgba(60, 64, 67, 0.3), 0px 1px 3px 1px rgba(60, 64, 67, 0.15);\n",
              "      fill: #174EA6;\n",
              "    }\n",
              "\n",
              "    [theme=dark] .colab-df-convert {\n",
              "      background-color: #3B4455;\n",
              "      fill: #D2E3FC;\n",
              "    }\n",
              "\n",
              "    [theme=dark] .colab-df-convert:hover {\n",
              "      background-color: #434B5C;\n",
              "      box-shadow: 0px 1px 3px 1px rgba(0, 0, 0, 0.15);\n",
              "      filter: drop-shadow(0px 1px 2px rgba(0, 0, 0, 0.3));\n",
              "      fill: #FFFFFF;\n",
              "    }\n",
              "  </style>\n",
              "\n",
              "      <script>\n",
              "        const buttonEl =\n",
              "          document.querySelector('#df-b2aebdce-d387-490e-bff6-4306e68438c5 button.colab-df-convert');\n",
              "        buttonEl.style.display =\n",
              "          google.colab.kernel.accessAllowed ? 'block' : 'none';\n",
              "\n",
              "        async function convertToInteractive(key) {\n",
              "          const element = document.querySelector('#df-b2aebdce-d387-490e-bff6-4306e68438c5');\n",
              "          const dataTable =\n",
              "            await google.colab.kernel.invokeFunction('convertToInteractive',\n",
              "                                                     [key], {});\n",
              "          if (!dataTable) return;\n",
              "\n",
              "          const docLinkHtml = 'Like what you see? Visit the ' +\n",
              "            '<a target=\"_blank\" href=https://colab.research.google.com/notebooks/data_table.ipynb>data table notebook</a>'\n",
              "            + ' to learn more about interactive tables.';\n",
              "          element.innerHTML = '';\n",
              "          dataTable['output_type'] = 'display_data';\n",
              "          await google.colab.output.renderOutput(dataTable, element);\n",
              "          const docLink = document.createElement('div');\n",
              "          docLink.innerHTML = docLinkHtml;\n",
              "          element.appendChild(docLink);\n",
              "        }\n",
              "      </script>\n",
              "    </div>\n",
              "  </div>\n",
              "  "
            ],
            "text/plain": [
              "                         date     farm_id ingredient_type        id  \\\n",
              "0         2017-01-01 00:00:00  fid_110884           ing_w         0   \n",
              "1         2017-01-01 00:00:00   fid_90053           ing_w         1   \n",
              "2         2017-01-01 00:00:00   fid_17537           ing_w         2   \n",
              "3         2017-01-01 00:00:00  fid_110392           ing_w         3   \n",
              "4         2017-01-01 00:00:00   fid_62402           ing_w         4   \n",
              "...                       ...         ...             ...       ...   \n",
              "12599379  2017-12-31 23:00:00   fid_74945           ing_w  26001706   \n",
              "12599380  2017-12-31 23:00:00   fid_36739           ing_w  26001709   \n",
              "12599381  2017-12-31 23:00:00  fid_112848           ing_w  26001711   \n",
              "12599382  2017-12-31 23:00:00   fid_58769           ing_w  26001714   \n",
              "12599383  2017-12-31 23:00:00  fid_117010           ing_w  26001717   \n",
              "\n",
              "             farm_area farming_company deidentified_location  temp_obs  \\\n",
              "0           690.455096     Obery Farms         location 7369      17.8   \n",
              "1           252.696160     Obery Farms         location 7369      17.8   \n",
              "2           499.446528     Obery Farms         location 7369      17.8   \n",
              "3          2200.407555     Obery Farms         location 7369      17.8   \n",
              "4         10833.140121     Obery Farms         location 7369      17.8   \n",
              "...                ...             ...                   ...       ...   \n",
              "12599379   7561.375170     Obery Farms          location 868     -21.1   \n",
              "12599380  14173.188777     Obery Farms          location 868     -21.1   \n",
              "12599381   6320.191090     Obery Farms          location 868     -21.1   \n",
              "12599382   8659.117018     Obery Farms          location 868     -21.1   \n",
              "12599383  11857.395696     Obery Farms          location 868     -21.1   \n",
              "\n",
              "          wind_direction  dew_temp  pressure_sea_level  precipitation  \\\n",
              "0                  100.0      11.7              1021.4            0.0   \n",
              "1                  100.0      11.7              1021.4            0.0   \n",
              "2                  100.0      11.7              1021.4            0.0   \n",
              "3                  100.0      11.7              1021.4            0.0   \n",
              "4                  100.0      11.7              1021.4            0.0   \n",
              "...                  ...       ...                 ...            ...   \n",
              "12599379           270.0     -26.8              1029.8            2.0   \n",
              "12599380           270.0     -26.8              1029.8            2.0   \n",
              "12599381           270.0     -26.8              1029.8            2.0   \n",
              "12599382           270.0     -26.8              1029.8            2.0   \n",
              "12599383           270.0     -26.8              1029.8            2.0   \n",
              "\n",
              "          wind_speed  \n",
              "0                3.6  \n",
              "1                3.6  \n",
              "2                3.6  \n",
              "3                3.6  \n",
              "4                3.6  \n",
              "...              ...  \n",
              "12599379         4.6  \n",
              "12599380         4.6  \n",
              "12599381         4.6  \n",
              "12599382         4.6  \n",
              "12599383         4.6  \n",
              "\n",
              "[12599384 rows x 13 columns]"
            ]
          },
          "execution_count": 5,
          "metadata": {},
          "output_type": "execute_result"
        }
      ],
      "source": [
        "test_w=pd.read_csv('/content/drive/MyDrive/Capstone/ingredient type/test_w')\n",
        "test_w"
      ]
    },
    {
      "cell_type": "code",
      "execution_count": null,
      "metadata": {
        "colab": {
          "background_save": true
        },
        "id": "Sl71P5YGkBYi"
      },
      "outputs": [],
      "source": [
        "# converting each farm id as subsets\n",
        "subsets={}\n",
        "for i in ids:\n",
        "  subset=test_w[test_w['farm_id']==i]\n",
        "  subsets[i] = subset"
      ]
    },
    {
      "cell_type": "code",
      "execution_count": null,
      "metadata": {
        "colab": {
          "background_save": true
        },
        "id": "djFwb-nCkT03"
      },
      "outputs": [],
      "source": [
        "subsets"
      ]
    },
    {
      "cell_type": "code",
      "execution_count": null,
      "metadata": {
        "colab": {
          "background_save": true
        },
        "id": "7o2ljmfRkkD8"
      },
      "outputs": [],
      "source": [
        "subsets['fid_110392']"
      ]
    },
    {
      "cell_type": "code",
      "execution_count": null,
      "metadata": {
        "id": "dRWfrWgkm4dq"
      },
      "outputs": [],
      "source": [
        "path='/content/drive/MyDrive/Capstone/farm_ids/test_farm_ids'"
      ]
    },
    {
      "cell_type": "code",
      "execution_count": null,
      "metadata": {
        "colab": {
          "base_uri": "https://localhost:8080/"
        },
        "id": "9DX2_dx9ktuK",
        "outputId": "30b73b55-5ad3-4edf-9546-d507d8ff59f9"
      },
      "outputs": [
        {
          "name": "stdout",
          "output_type": "stream",
          "text": [
            "CPU times: user 646 ms, sys: 19.9 ms, total: 666 ms\n",
            "Wall time: 3 s\n"
          ]
        }
      ],
      "source": [
        "%%time\n",
        "for i in subsets:   #The for loop iterates over each element i in the sequence subsets.\n",
        "  subsets[i].to_csv(path+'/'+i+'.csv',index=False) #The / symbol is used to separate the directory and the file name,\n",
        "                                  # and the + symbol is used to concatenate the strings."
      ]
    },
    {
      "cell_type": "code",
      "execution_count": null,
      "metadata": {
        "colab": {
          "base_uri": "https://localhost:8080/"
        },
        "id": "pI2aFN3ZxCne",
        "outputId": "ecc7fa3b-52ea-4cca-ed6f-3c48e631d320"
      },
      "outputs": [
        {
          "data": {
            "text/plain": [
              "dict_keys(['fid_110884', 'fid_90053', 'fid_17537', 'fid_110392', 'fid_62402', 'fid_121604', 'fid_85694', 'fid_33785', 'fid_110793', 'fid_32954'])"
            ]
          },
          "execution_count": 24,
          "metadata": {},
          "output_type": "execute_result"
        }
      ],
      "source": [
        "subsets.keys()"
      ]
    },
    {
      "cell_type": "code",
      "execution_count": null,
      "metadata": {
        "colab": {
          "base_uri": "https://localhost:8080/"
        },
        "id": "d4j7FD20DIDC",
        "outputId": "c19aa167-1780-4b32-ab31-6c7f5a5ea9fa"
      },
      "outputs": [
        {
          "data": {
            "text/plain": [
              "array(['fid_110884', 'fid_90053', 'fid_17537', 'fid_110392', 'fid_62402',\n",
              "       'fid_121604', 'fid_85694', 'fid_33785', 'fid_110793', 'fid_32954'],\n",
              "      dtype=object)"
            ]
          },
          "execution_count": 25,
          "metadata": {},
          "output_type": "execute_result"
        }
      ],
      "source": [
        "ids"
      ]
    },
    {
      "cell_type": "code",
      "execution_count": null,
      "metadata": {
        "id": "x4cmACnFDS45"
      },
      "outputs": [],
      "source": []
    }
  ],
  "metadata": {
    "colab": {
      "provenance": []
    },
    "gpuClass": "standard",
    "kernelspec": {
      "display_name": "Python 3",
      "name": "python3"
    },
    "language_info": {
      "name": "python"
    }
  },
  "nbformat": 4,
  "nbformat_minor": 0
}